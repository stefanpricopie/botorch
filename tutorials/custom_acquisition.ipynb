{
 "metadata": {
  "kernelspec": {
   "display_name": "python3",
   "language": "python",
   "name": "python3"
  }
 },
 "nbformat": 4,
 "nbformat_minor": 2,
 "cells": [
  {
   "cell_type": "markdown",
   "metadata": {
    "collapsed": true,
    "originalKey": "4c6694a4-a6f8-4fc6-a9a7-4a29617406cb",
    "showInput": false,
    "code_folding": [],
    "hidden_ranges": []
   },
   "source": []
  },
  {
   "cell_type": "markdown",
   "metadata": {
    "collapsed": true,
    "originalKey": "c901c723-b2f3-4f75-96c0-6555954209f5",
    "showInput": false,
    "code_folding": [],
    "hidden_ranges": []
   },
   "source": [
    "### Upper Confidence Bound (UCB)\n",
    "\n",
    "The Upper Confidence Bound (UCB) acquisition function balances exploration and exploitation by assigning a score of $\\mu + \\sqrt{\\beta} \\cdot \\sigma$ if the posterior distribution is normal with mean $\\mu$ and variance $\\sigma^2$. This \"analytic\" version is implemented in the `UpperConfidenceBound` class. The Monte Carlo version of UCB is implemented in the `qUpperConfidenceBound` class, which also allows for q-batches of size greater than one. (The derivation of q-UCB is given in Appendix A of [Wilson et. al., 2017](https://arxiv.org/pdf/1712.00424.pdf)).\n",
    "\n",
    "### A scalarized version of q-UCB\n",
    "\n",
    "Suppose now that we are in a multi-output setting, where, e.g., we model the effects of a design on multiple metrics. We first show a simple extension of the q-UCB acquisition function that accepts a multi-output model and performs q-UCB on a scalarized version of the multiple outputs, achieved via a vector of weights. Implementing a new acquisition function in botorch is easy; one simply needs to implement the constructor and a `forward` method."
   ]
  },
  {
   "cell_type": "code",
   "metadata": {
    "collapsed": false,
    "pycharm": {
     "name": "#%%\n"
    },
    "originalKey": "bdd02e32-c993-4bc7-966a-dfa520e243d3",
    "requestMsgId": "2364e148-21c4-4037-998e-e4352a4f4929",
    "customOutput": null,
    "executionStartTime": 1668651266713,
    "executionStopTime": 1668651266719,
    "ExecuteTime": {
     "end_time": "2024-01-09T22:34:22.757419Z",
     "start_time": "2024-01-09T22:34:22.672618Z"
    }
   },
   "source": [
    "import plotly.io as pio\n",
    "\n",
    "# Ax uses Plotly to produce interactive plots. These are great for viewing and analysis,\n",
    "# though they also lead to large file sizes, which is not ideal for files living in GH.\n",
    "# Changing the default to `png` strips the interactive components to get around this.\n",
    "pio.renderers.default = \"png\""
   ],
   "execution_count": 1,
   "outputs": []
  },
  {
   "cell_type": "code",
   "metadata": {
    "originalKey": "75503e22-bf3b-49d6-87a8-cb9c741e941e",
    "code_folding": [],
    "hidden_ranges": [],
    "collapsed": false,
    "requestMsgId": "28d53a4f-be29-4ec6-8529-e1bdc80b5adf",
    "executionStartTime": 1668651267039,
    "executionStopTime": 1668651273452,
    "customOutput": null,
    "ExecuteTime": {
     "end_time": "2024-01-09T22:34:24.245028Z",
     "start_time": "2024-01-09T22:34:22.759613Z"
    }
   },
   "source": [
    "import math\n",
    "from typing import Optional\n",
    "\n",
    "from botorch.acquisition.monte_carlo import MCAcquisitionFunction\n",
    "from botorch.models.model import Model\n",
    "from botorch.sampling.base import MCSampler\n",
    "from botorch.sampling.normal import SobolQMCNormalSampler\n",
    "from botorch.utils import t_batch_mode_transform\n",
    "from torch import Tensor\n",
    "\n",
    "\n",
    "class qScalarizedUpperConfidenceBound(MCAcquisitionFunction):\n",
    "    def __init__(\n",
    "        self,\n",
    "        model: Model,\n",
    "        beta: Tensor,\n",
    "        weights: Tensor,\n",
    "        sampler: Optional[MCSampler] = None,\n",
    "    ) -> None:\n",
    "        # we use the AcquisitionFunction constructor, since that of\n",
    "        # MCAcquisitionFunction performs some validity checks that we don't want here\n",
    "        super(MCAcquisitionFunction, self).__init__(model=model)\n",
    "        if sampler is None:\n",
    "            sampler = SobolQMCNormalSampler(sample_shape=torch.Size([512]))\n",
    "        self.sampler = sampler\n",
    "        self.register_buffer(\"beta\", torch.as_tensor(beta))\n",
    "        self.register_buffer(\"weights\", torch.as_tensor(weights))\n",
    "\n",
    "    @t_batch_mode_transform()\n",
    "    def forward(self, X: Tensor) -> Tensor:\n",
    "        \"\"\"Evaluate scalarized qUCB on the candidate set `X`.\n",
    "\n",
    "        Args:\n",
    "            X: A `(b) x q x d`-dim Tensor of `(b)` t-batches with `q` `d`-dim\n",
    "                design points each.\n",
    "\n",
    "        Returns:\n",
    "            Tensor: A `(b)`-dim Tensor of Upper Confidence Bound values at the\n",
    "                given design points `X`.\n",
    "        \"\"\"\n",
    "        posterior = self.model.posterior(X)\n",
    "        samples = self.get_posterior_samples(posterior)  # n x b x q x o\n",
    "        scalarized_samples = samples.matmul(self.weights)  # n x b x q\n",
    "        mean = posterior.mean  # b x q x o\n",
    "        scalarized_mean = mean.matmul(self.weights)  # b x q\n",
    "        ucb_samples = (\n",
    "            scalarized_mean\n",
    "            + math.sqrt(self.beta * math.pi / 2)\n",
    "            * (scalarized_samples - scalarized_mean).abs()\n",
    "        )\n",
    "        return ucb_samples.max(dim=-1)[0].mean(dim=0)"
   ],
   "execution_count": 2,
   "outputs": []
  },
  {
   "cell_type": "markdown",
   "metadata": {
    "originalKey": "b1d4ee8e-69e1-4914-b113-473add84f322",
    "showInput": false,
    "code_folding": [],
    "hidden_ranges": []
   },
   "source": [
    "Note that `qScalarizedUpperConfidenceBound` is very similar to `qUpperConfidenceBound` and only requires a few lines of new code to accomodate scalarization of multiple outputs. The `@t_batch_mode_transform` decorator ensures that the input `X` has an explicit t-batch dimension (code comments are added with shapes for clarity).\n",
    "\n",
    "See the end of this tutorial for a quick and easy way of achieving the same scalarization effect using `ScalarizedPosteriorTransform`."
   ]
  },
  {
   "cell_type": "markdown",
   "metadata": {
    "originalKey": "7122ce31-f5ee-4fdc-8962-73f692eaaac0",
    "showInput": false
   },
   "source": [
    "#### Ad-hoc testing q-Scalarized-UCB\n",
    "\n",
    "Before hooking the newly defined acquisition function into a Bayesian Optimization loop, we should test it. For this we'll just make sure that it properly evaluates on a compatible multi-output model. Here we just define a basic multi-output `SingleTaskGP` model trained on synthetic data."
   ]
  },
  {
   "cell_type": "code",
   "metadata": {
    "originalKey": "4958d0f5-cce4-4fc8-8fa2-8b9d7fe2bd5d",
    "collapsed": false,
    "requestMsgId": "534c2e0c-f4c0-4bb0-bdec-e44f86c0ed2b",
    "executionStartTime": 1668651273753,
    "executionStopTime": 1668651274217,
    "code_folding": [],
    "hidden_ranges": [],
    "customOutput": null,
    "ExecuteTime": {
     "end_time": "2024-01-09T22:34:24.332182Z",
     "start_time": "2024-01-09T22:34:24.245822Z"
    }
   },
   "source": [
    "import torch\n",
    "\n",
    "from botorch.fit import fit_gpytorch_mll\n",
    "from botorch.models import SingleTaskGP\n",
    "from botorch.utils import standardize\n",
    "from gpytorch.mlls import ExactMarginalLogLikelihood\n",
    "\n",
    "\n",
    "# generate synthetic data\n",
    "X = torch.rand(20, 2)\n",
    "Y = torch.stack([torch.sin(X[:, 0]), torch.cos(X[:, 1])], -1)\n",
    "Y = standardize(Y)  # standardize to zero mean unit variance\n",
    "\n",
    "# construct and fit the multi-output model\n",
    "gp = SingleTaskGP(X, Y)\n",
    "mll = ExactMarginalLogLikelihood(gp.likelihood, gp)\n",
    "fit_gpytorch_mll(mll)\n",
    "\n",
    "# construct the acquisition function\n",
    "qSUCB = qScalarizedUpperConfidenceBound(gp, beta=0.1, weights=torch.tensor([0.1, 0.5]))"
   ],
   "execution_count": 3,
   "outputs": [
    {
     "name": "stderr",
     "output_type": "stream",
     "text": [
      "/Users/stefan/Desktop/botorch/botorch/models/gp_regression.py:161: UserWarning:\n",
      "\n",
      "The model inputs are of type torch.float32. It is strongly recommended to use double precision in BoTorch, as this improves both precision and stability and can help avoid numerical errors. See https://github.com/pytorch/botorch/discussions/1444\n",
      "\n"
     ]
    }
   ]
  },
  {
   "cell_type": "code",
   "metadata": {
    "originalKey": "5070d96c-5673-4bbf-ab72-781d1eabd1bf",
    "collapsed": false,
    "requestMsgId": "1a5d87ac-e176-46dd-b7b9-fb29bfd14971",
    "executionStartTime": 1668651274500,
    "executionStopTime": 1668651274569,
    "customOutput": null,
    "ExecuteTime": {
     "end_time": "2024-01-09T22:34:24.339019Z",
     "start_time": "2024-01-09T22:34:24.331766Z"
    }
   },
   "source": [
    "# evaluate on single q-batch with q=3\n",
    "qSUCB(torch.rand(3, 2))"
   ],
   "execution_count": 4,
   "outputs": [
    {
     "data": {
      "text/plain": "tensor([-1.0519], grad_fn=<MeanBackward1>)"
     },
     "execution_count": 4,
     "metadata": {},
     "output_type": "execute_result"
    }
   ]
  },
  {
   "cell_type": "code",
   "metadata": {
    "scrolled": true,
    "originalKey": "b3e0a586-b362-4ab4-b4c1-7fc0c99a1be4",
    "collapsed": false,
    "requestMsgId": "4f73099f-0dd6-4494-9706-71f50e5dbccf",
    "executionStartTime": 1668651274799,
    "executionStopTime": 1668651274876,
    "customOutput": null,
    "ExecuteTime": {
     "end_time": "2024-01-09T22:34:24.344850Z",
     "start_time": "2024-01-09T22:34:24.339607Z"
    }
   },
   "source": [
    "# batch-evaluate on two q-batches with q=3\n",
    "qSUCB(torch.rand(2, 3, 2))"
   ],
   "execution_count": 5,
   "outputs": [
    {
     "data": {
      "text/plain": "tensor([0.7463, 0.5129], grad_fn=<MeanBackward1>)"
     },
     "execution_count": 5,
     "metadata": {},
     "output_type": "execute_result"
    }
   ]
  },
  {
   "cell_type": "markdown",
   "metadata": {
    "collapsed": true,
    "originalKey": "aa45db76-36cb-42e9-9386-649d9ea5e741",
    "showInput": false
   },
   "source": [
    "### A scalarized version of analytic UCB (`q=1` only)\n",
    "\n",
    "We can also write an *analytic* version of UCB for a multi-output model, assuming a multivariate normal posterior and `q=1`. The new class `ScalarizedUpperConfidenceBound` subclasses `AnalyticAcquisitionFunction` instead of `MCAcquisitionFunction`. In contrast to the MC version, instead of using the weights on the MC samples, we directly scalarize the mean vector $\\mu$ and covariance matrix $\\Sigma$ and apply standard UCB on the univariate normal distribution, which has mean $w^T \\mu$ and variance $w^T \\Sigma w$. In addition to the `@t_batch_transform` decorator, here we are also using `expected_q=1` to ensure the input `X` has a `q=1`.\n",
    "\n",
    "*Note:* BoTorch also provides a `ScalarizedPosteriorTransform` abstraction that can be used with any existing analytic acqusition functions and automatically performs the scalarization we implement manually below. See the end of this tutorial for a usage example."
   ]
  },
  {
   "cell_type": "code",
   "metadata": {
    "originalKey": "5528fc1c-5cf1-4cab-9598-9a41e652d6ea",
    "collapsed": false,
    "requestMsgId": "22877611-7d10-4e11-8da5-17ae46e362b8",
    "executionStartTime": 1668651275106,
    "executionStopTime": 1668651275190,
    "customOutput": null,
    "ExecuteTime": {
     "end_time": "2024-01-09T22:34:24.350067Z",
     "start_time": "2024-01-09T22:34:24.346223Z"
    }
   },
   "source": [
    "from botorch.acquisition import AnalyticAcquisitionFunction\n",
    "\n",
    "\n",
    "class ScalarizedUpperConfidenceBound(AnalyticAcquisitionFunction):\n",
    "    def __init__(\n",
    "        self,\n",
    "        model: Model,\n",
    "        beta: Tensor,\n",
    "        weights: Tensor,\n",
    "        maximize: bool = True,\n",
    "    ) -> None:\n",
    "        # we use the AcquisitionFunction constructor, since that of\n",
    "        # AnalyticAcquisitionFunction performs some validity checks that we don't want here\n",
    "        super(AnalyticAcquisitionFunction, self).__init__(model)\n",
    "        self.maximize = maximize\n",
    "        self.register_buffer(\"beta\", torch.as_tensor(beta))\n",
    "        self.register_buffer(\"weights\", torch.as_tensor(weights))\n",
    "\n",
    "    @t_batch_mode_transform(expected_q=1)\n",
    "    def forward(self, X: Tensor) -> Tensor:\n",
    "        \"\"\"Evaluate the Upper Confidence Bound on the candidate set X using scalarization\n",
    "\n",
    "        Args:\n",
    "            X: A `(b) x d`-dim Tensor of `(b)` t-batches of `d`-dim design\n",
    "                points each.\n",
    "\n",
    "        Returns:\n",
    "            A `(b)`-dim Tensor of Upper Confidence Bound values at the given\n",
    "                design points `X`.\n",
    "        \"\"\"\n",
    "        self.beta = self.beta.to(X)\n",
    "        batch_shape = X.shape[:-2]\n",
    "        posterior = self.model.posterior(X)\n",
    "        means = posterior.mean.squeeze(dim=-2)  # b x o\n",
    "        scalarized_mean = means.matmul(self.weights)  # b\n",
    "        covs = posterior.mvn.covariance_matrix  # b x o x o\n",
    "        weights = self.weights.view(\n",
    "            1, -1, 1\n",
    "        )  # 1 x o x 1 (assume single batch dimension)\n",
    "        weights = weights.expand(batch_shape + weights.shape[1:])  # b x o x 1\n",
    "        weights_transpose = weights.permute(0, 2, 1)  # b x 1 x o\n",
    "        scalarized_variance = torch.bmm(\n",
    "            weights_transpose, torch.bmm(covs, weights)\n",
    "        ).view(\n",
    "            batch_shape\n",
    "        )  # b\n",
    "        delta = (self.beta.expand_as(scalarized_mean) * scalarized_variance).sqrt()\n",
    "        if self.maximize:\n",
    "            return scalarized_mean + delta\n",
    "        else:\n",
    "            return scalarized_mean - delta"
   ],
   "execution_count": 6,
   "outputs": []
  },
  {
   "cell_type": "markdown",
   "metadata": {
    "originalKey": "54811aec-bcad-4d24-8346-fa69c9e1d4c1",
    "showInput": false
   },
   "source": [
    "#### Ad-hoc testing Scalarized-UCB\n",
    "\n",
    "Notice that we pass in an explicit q-batch dimension for consistency, even though `q=1`."
   ]
  },
  {
   "cell_type": "code",
   "metadata": {
    "originalKey": "f7a98f13-7d87-4e87-afb8-a8ff087faeef",
    "collapsed": false,
    "requestMsgId": "99dedb82-13c3-45ea-8126-a2daa706a14a",
    "executionStartTime": 1668651275410,
    "executionStopTime": 1668651275490,
    "customOutput": null,
    "ExecuteTime": {
     "end_time": "2024-01-09T22:34:24.350265Z",
     "start_time": "2024-01-09T22:34:24.348507Z"
    }
   },
   "source": [
    "# construct the acquisition function\n",
    "SUCB = ScalarizedUpperConfidenceBound(gp, beta=0.1, weights=torch.tensor([0.1, 0.5]))"
   ],
   "execution_count": 7,
   "outputs": []
  },
  {
   "cell_type": "code",
   "metadata": {
    "originalKey": "78de901c-d537-4b20-8ab2-f1161d12cca3",
    "collapsed": false,
    "requestMsgId": "af017973-596f-4bf5-9efe-54062c3c2715",
    "executionStartTime": 1668651275716,
    "executionStopTime": 1668651275791,
    "customOutput": null,
    "ExecuteTime": {
     "end_time": "2024-01-09T22:34:24.391071Z",
     "start_time": "2024-01-09T22:34:24.350728Z"
    }
   },
   "source": [
    "# evaluate on single point\n",
    "SUCB(torch.rand(1, 2))"
   ],
   "execution_count": 8,
   "outputs": [
    {
     "data": {
      "text/plain": "tensor([-0.2047], grad_fn=<AddBackward0>)"
     },
     "execution_count": 8,
     "metadata": {},
     "output_type": "execute_result"
    }
   ]
  },
  {
   "cell_type": "code",
   "metadata": {
    "originalKey": "3ffbd8b7-11e6-48d1-8d05-eddd3fc8221c",
    "collapsed": false,
    "requestMsgId": "79891745-83b5-459c-bfc7-d1683396b748",
    "executionStartTime": 1668651276011,
    "executionStopTime": 1668651276084,
    "customOutput": null,
    "ExecuteTime": {
     "end_time": "2024-01-09T22:34:24.391947Z",
     "start_time": "2024-01-09T22:34:24.354730Z"
    }
   },
   "source": [
    "# batch-evaluate on 3 points\n",
    "SUCB(torch.rand(3, 1, 2))"
   ],
   "execution_count": 9,
   "outputs": [
    {
     "data": {
      "text/plain": "tensor([-1.1248,  0.6978, -0.0605], grad_fn=<AddBackward0>)"
     },
     "execution_count": 9,
     "metadata": {},
     "output_type": "execute_result"
    }
   ]
  },
  {
   "cell_type": "markdown",
   "metadata": {
    "originalKey": "23509c96-6cab-4b3c-a8f6-ca87e607f642",
    "showInput": false,
    "customInput": null,
    "code_folding": [],
    "hidden_ranges": []
   },
   "source": [
    "## Using the custom acquisition function with Ax's Service API"
   ]
  },
  {
   "cell_type": "markdown",
   "metadata": {
    "originalKey": "636b7375-e46f-4bfb-bd38-724bcaae1b71",
    "showInput": false,
    "customInput": null,
    "code_folding": [],
    "hidden_ranges": []
   },
   "source": [
    "### Registering the new acquisition function\n",
    "\n",
    "In order to use an acquisition function, Ax needs to know how to generate inputs to construct the acquisition function."
   ]
  },
  {
   "cell_type": "code",
   "metadata": {
    "originalKey": "cd81abdf-050f-470c-be2a-432a52f911b5",
    "showInput": true,
    "customInput": null,
    "code_folding": [],
    "hidden_ranges": [],
    "collapsed": false,
    "requestMsgId": "94f7428a-6053-4fca-b902-3d2729c34559",
    "executionStartTime": 1668651276301,
    "executionStopTime": 1668651276386,
    "customOutput": null,
    "ExecuteTime": {
     "end_time": "2024-01-09T22:34:24.392100Z",
     "start_time": "2024-01-09T22:34:24.359540Z"
    }
   },
   "source": [
    "from typing import List\n",
    "from typing import Any, Dict\n",
    "\n",
    "from botorch.acquisition.input_constructors import acqf_input_constructor\n",
    "\n",
    "\n",
    "@acqf_input_constructor(ScalarizedUpperConfidenceBound)\n",
    "def construct_inputs_scalarized_ucb(\n",
    "    model: Model,\n",
    "    beta: float,\n",
    "    weights: List[float],\n",
    "    **kwargs: Any,\n",
    ") -> Dict[str, Any]:\n",
    "    return {\n",
    "        \"model\": model,\n",
    "        \"beta\": torch.as_tensor(beta, dtype=torch.double),\n",
    "        \"weights\": torch.as_tensor(weights, dtype=torch.double),\n",
    "    }"
   ],
   "execution_count": 10,
   "outputs": []
  },
  {
   "cell_type": "markdown",
   "metadata": {
    "originalKey": "71d0ade7-1341-4dda-b59e-b4f362d9991d",
    "showInput": false,
    "customInput": null,
    "code_folding": [],
    "hidden_ranges": []
   },
   "source": [
    "### Setting up a `GenerationStrategy` using `BOTORCH_MODULAR` with our custom acquistion function.\n",
    "\n",
    "`BOTORCH_MODULAR` is a convenient wrapper implemented in Ax that facilitates the use of custom BoTorch models and acquisition functions in Ax experiments. In order to customize the way the candidates are generated, we need to construct a new `GenerationStrategy` and pass it into the `AxClient`."
   ]
  },
  {
   "cell_type": "code",
   "metadata": {
    "originalKey": "80c4b078-9787-46da-ac78-a574cc73a17d",
    "showInput": true,
    "customInput": null,
    "code_folding": [],
    "hidden_ranges": [],
    "collapsed": false,
    "requestMsgId": "a4881c76-cd0f-48f0-9b5f-72f08ff15a21",
    "executionStartTime": 1668651276695,
    "executionStopTime": 1668651283047,
    "customOutput": null,
    "ExecuteTime": {
     "end_time": "2024-01-09T22:34:24.962247Z",
     "start_time": "2024-01-09T22:34:24.362015Z"
    }
   },
   "source": [
    "from ax.modelbridge.generation_strategy import GenerationStep, GenerationStrategy\n",
    "from ax.modelbridge.registry import Models\n",
    "\n",
    "\n",
    "gs = GenerationStrategy(\n",
    "    steps=[\n",
    "        # Quasi-random initialization step\n",
    "        GenerationStep(\n",
    "            model=Models.SOBOL,\n",
    "            num_trials=5,  # How many trials should be produced from this generation step\n",
    "            model_kwargs={\"seed\": 999},  # Any kwargs you want passed into the model\n",
    "        ),\n",
    "        # Bayesian optimization step using the custom acquisition function\n",
    "        GenerationStep(\n",
    "            model=Models.BOTORCH_MODULAR,\n",
    "            num_trials=-1,  # No limitation on how many trials should be produced from this step\n",
    "            # For `BOTORCH_MODULAR`, we pass in kwargs to specify what surrogate or acquisition function to use.\n",
    "            # `acquisition_options` specifies the set of additional arguments to pass into the input constructor.\n",
    "            model_kwargs={\n",
    "                \"botorch_acqf_class\": ScalarizedUpperConfidenceBound,\n",
    "                \"acquisition_options\": {\"beta\": 0.1, \"weights\": [1.0, 1.0]},\n",
    "            },\n",
    "        ),\n",
    "    ]\n",
    ")"
   ],
   "execution_count": 11,
   "outputs": []
  },
  {
   "cell_type": "markdown",
   "metadata": {
    "originalKey": "b7e98402-9d53-4d33-bfbf-230833edc121",
    "showInput": false,
    "customInput": null,
    "code_folding": [],
    "hidden_ranges": []
   },
   "source": [
    "### Setting up the experiment\n",
    "\n",
    "We will set up a simple experiment to optimize a simple scalarization of the BraninCurrin function (per the weights above). A detailed tutorial on Service API can be found [here](https://ax.dev/tutorials/gpei_hartmann_service.html).\n",
    "\n",
    "In order to use the `GenerationStrategy` we just created, we will pass it into the `AxClient`."
   ]
  },
  {
   "cell_type": "code",
   "metadata": {
    "originalKey": "e1e4f622-4678-4ae1-98a5-02c770c51f87",
    "showInput": true,
    "customInput": null,
    "code_folding": [],
    "hidden_ranges": [],
    "collapsed": false,
    "requestMsgId": "1a068448-2ed8-4090-8d3b-a2fa10ee42a5",
    "executionStartTime": 1668651283379,
    "executionStopTime": 1668651283560,
    "customOutput": null,
    "ExecuteTime": {
     "end_time": "2024-01-09T22:34:25.104850Z",
     "start_time": "2024-01-09T22:34:24.965141Z"
    }
   },
   "source": [
    "from ax.service.ax_client import AxClient\n",
    "from ax.service.utils.instantiation import ObjectiveProperties\n",
    "from botorch.test_functions import BraninCurrin\n",
    "\n",
    "\n",
    "# Initialize the client - AxClient offers a convenient API to control the experiment\n",
    "ax_client = AxClient(generation_strategy=gs)\n",
    "# Setup the experiment\n",
    "ax_client.create_experiment(\n",
    "    name=\"branincurrin_test_experiment\",\n",
    "    parameters=[\n",
    "        {\n",
    "            \"name\": f\"x{i+1}\",\n",
    "            \"type\": \"range\",\n",
    "            # It is crucial to use floats for the bounds, i.e., 0.0 rather than 0.\n",
    "            # Otherwise, the parameter would\n",
    "            \"bounds\": [0.0, 1.0],\n",
    "        }\n",
    "        for i in range(2)\n",
    "    ],\n",
    "    objectives={\n",
    "        \"branin\": ObjectiveProperties(minimize=True),\n",
    "        \"currin\": ObjectiveProperties(minimize=True),\n",
    "    },\n",
    ")\n",
    "# Setup a function to evaluate the trials\n",
    "branincurrin = BraninCurrin()\n",
    "\n",
    "\n",
    "def evaluate(parameters):\n",
    "    x = torch.tensor([[parameters.get(f\"x{i+1}\") for i in range(2)]])\n",
    "    bc_eval = branincurrin(x).squeeze().tolist()\n",
    "    # In our case, standard error is 0, since we are computing a synthetic function.\n",
    "    return {\"branin\": (bc_eval[0], 0.0), \"currin\": (bc_eval[1], 0.0)}"
   ],
   "execution_count": 12,
   "outputs": [
    {
     "name": "stderr",
     "output_type": "stream",
     "text": [
      "[INFO 01-09 22:34:25] ax.service.ax_client: Starting optimization with verbose logging. To disable logging, set the `verbose_logging` argument to `False`. Note that float values in the logs are rounded to 6 decimal points.\n",
      "[INFO 01-09 22:34:25] ax.service.utils.instantiation: Due to non-specification, we will use the heuristic for selecting objective thresholds.\n",
      "[INFO 01-09 22:34:25] ax.service.utils.instantiation: Inferred value type of ParameterType.FLOAT for parameter x1. If that is not the expected value type, you can explicitly specify 'value_type' ('int', 'float', 'bool' or 'str') in parameter dict.\n",
      "[INFO 01-09 22:34:25] ax.service.utils.instantiation: Inferred value type of ParameterType.FLOAT for parameter x2. If that is not the expected value type, you can explicitly specify 'value_type' ('int', 'float', 'bool' or 'str') in parameter dict.\n",
      "[INFO 01-09 22:34:25] ax.service.utils.instantiation: Created search space: SearchSpace(parameters=[RangeParameter(name='x1', parameter_type=FLOAT, range=[0.0, 1.0]), RangeParameter(name='x2', parameter_type=FLOAT, range=[0.0, 1.0])], parameter_constraints=[]).\n"
     ]
    }
   ]
  },
  {
   "cell_type": "markdown",
   "metadata": {
    "originalKey": "ae279099-6f99-4d29-858b-d174d388e2d3",
    "showInput": false,
    "customInput": null,
    "code_folding": [],
    "hidden_ranges": []
   },
   "source": [
    "### Running the BO loop\n",
    "\n",
    "Ax makes this part super simple!"
   ]
  },
  {
   "cell_type": "code",
   "metadata": {
    "originalKey": "11c29a68-56a5-4d48-888b-04dd69cfb0af",
    "showInput": true,
    "customInput": null,
    "code_folding": [],
    "hidden_ranges": [],
    "collapsed": false,
    "requestMsgId": "050fef34-1c80-46c1-83f6-c245385b7f42",
    "executionStartTime": 1668651283818,
    "executionStopTime": 1668651290050,
    "customOutput": null,
    "ExecuteTime": {
     "end_time": "2024-01-09T22:34:25.797902Z",
     "start_time": "2024-01-09T22:34:25.106549Z"
    }
   },
   "source": [
    "for i in range(10):\n",
    "    parameters, trial_index = ax_client.get_next_trial()\n",
    "    # Local evaluation here can be replaced with deployment to external system.\n",
    "    ax_client.complete_trial(trial_index=trial_index, raw_data=evaluate(parameters))"
   ],
   "execution_count": 13,
   "outputs": [
    {
     "name": "stderr",
     "output_type": "stream",
     "text": [
      "[INFO 01-09 22:34:25] ax.service.ax_client: Generated new trial 0 with parameters {'x1': 0.62873, 'x2': 0.51481}.\n",
      "[INFO 01-09 22:34:25] ax.service.ax_client: Completed trial 0 with data: {'branin': (46.244598, 0.0), 'currin': (6.842319, 0.0)}.\n",
      "[INFO 01-09 22:34:25] ax.service.ax_client: Generated new trial 1 with parameters {'x1': 0.434883, 'x2': 0.396266}.\n",
      "[INFO 01-09 22:34:25] ax.service.ax_client: Completed trial 1 with data: {'branin': (14.735401, 0.0), 'currin': (8.740173, 0.0)}.\n",
      "[INFO 01-09 22:34:25] ax.service.ax_client: Generated new trial 2 with parameters {'x1': 0.075645, 'x2': 0.934926}.\n",
      "[INFO 01-09 22:34:25] ax.service.ax_client: Completed trial 2 with data: {'branin': (2.808084, 0.0), 'currin': (4.10731, 0.0)}.\n",
      "[INFO 01-09 22:34:25] ax.service.ax_client: Generated new trial 3 with parameters {'x1': 0.863245, 'x2': 0.038764}.\n",
      "[INFO 01-09 22:34:25] ax.service.ax_client: Completed trial 3 with data: {'branin': (9.956846, 0.0), 'currin': (10.342199, 0.0)}.\n",
      "[INFO 01-09 22:34:25] ax.service.ax_client: Generated new trial 4 with parameters {'x1': 0.953918, 'x2': 0.808236}.\n",
      "[INFO 01-09 22:34:25] ax.service.ax_client: Completed trial 4 with data: {'branin': (95.420815, 0.0), 'currin': (4.715139, 0.0)}.\n",
      "[INFO 01-09 22:34:25] ax.service.ax_client: Generated new trial 5 with parameters {'x1': 1.0, 'x2': 0.343961}.\n",
      "[INFO 01-09 22:34:25] ax.service.ax_client: Completed trial 5 with data: {'branin': (6.593456, 0.0), 'currin': (7.800388, 0.0)}.\n",
      "[INFO 01-09 22:34:25] ax.service.ax_client: Generated new trial 6 with parameters {'x1': 0.545894, 'x2': 0.0}.\n",
      "[INFO 01-09 22:34:25] ax.service.ax_client: Completed trial 6 with data: {'branin': (5.420506, 0.0), 'currin': (11.428921, 0.0)}.\n",
      "[INFO 01-09 22:34:25] ax.service.ax_client: Generated new trial 7 with parameters {'x1': 0.123591, 'x2': 0.0}.\n",
      "[INFO 01-09 22:34:25] ax.service.ax_client: Completed trial 7 with data: {'branin': (151.341461, 0.0), 'currin': (12.426213, 0.0)}.\n",
      "[INFO 01-09 22:34:25] ax.service.ax_client: Generated new trial 8 with parameters {'x1': 0.045173, 'x2': 0.0}.\n",
      "[INFO 01-09 22:34:25] ax.service.ax_client: Completed trial 8 with data: {'branin': (240.222427, 0.0), 'currin': (7.477102, 0.0)}.\n",
      "[INFO 01-09 22:34:25] ax.service.ax_client: Generated new trial 9 with parameters {'x1': 0.120665, 'x2': 0.03279}.\n",
      "[INFO 01-09 22:34:25] ax.service.ax_client: Completed trial 9 with data: {'branin': (142.015594, 0.0), 'currin': (12.317687, 0.0)}.\n"
     ]
    }
   ]
  },
  {
   "cell_type": "markdown",
   "metadata": {
    "originalKey": "0e35aa1a-766a-4c5e-924f-852db76c3139",
    "showInput": false,
    "customInput": null,
    "code_folding": [],
    "hidden_ranges": []
   },
   "source": [
    "### Viewing trials and plotting the Pareto frontier\n",
    "\n",
    "View the trials attached to the experiment."
   ]
  },
  {
   "cell_type": "code",
   "metadata": {
    "originalKey": "e3299fb3-d9f7-45e3-ba34-8b5b0c29dea1",
    "showInput": true,
    "customInput": null,
    "collapsed": false,
    "requestMsgId": "54a67064-79e2-454a-b3d9-18d0a4f23ac8",
    "executionStopTime": 1668651290364,
    "executionStartTime": 1668651290295,
    "customOutput": null,
    "ExecuteTime": {
     "end_time": "2024-01-09T22:34:25.805330Z",
     "start_time": "2024-01-09T22:34:25.797066Z"
    }
   },
   "source": [
    "ax_client.generation_strategy.trials_as_df"
   ],
   "execution_count": 14,
   "outputs": [
    {
     "name": "stderr",
     "output_type": "stream",
     "text": [
      "[INFO 01-09 22:34:25] ax.modelbridge.generation_strategy: Note that parameter values in dataframe are rounded to 2 decimal points; the values in the dataframe are thus not the exact ones suggested by Ax in trials.\n"
     ]
    },
    {
     "data": {
      "text/plain": "    Generation Step Generation Model  Trial Index Trial Status  \\\n0  GenerationStep_0            Sobol            0    COMPLETED   \n1  GenerationStep_0            Sobol            1    COMPLETED   \n2  GenerationStep_0            Sobol            2    COMPLETED   \n3  GenerationStep_0            Sobol            3    COMPLETED   \n4  GenerationStep_0            Sobol            4    COMPLETED   \n5  GenerationStep_1          BoTorch            5    COMPLETED   \n6  GenerationStep_1          BoTorch            6    COMPLETED   \n7  GenerationStep_1          BoTorch            7    COMPLETED   \n8  GenerationStep_1          BoTorch            8    COMPLETED   \n9  GenerationStep_1          BoTorch            9    COMPLETED   \n\n               Arm Parameterizations  \n0  {'0_0': {'x1': 0.63, 'x2': 0.51}}  \n1   {'1_0': {'x1': 0.43, 'x2': 0.4}}  \n2  {'2_0': {'x1': 0.08, 'x2': 0.93}}  \n3  {'3_0': {'x1': 0.86, 'x2': 0.04}}  \n4  {'4_0': {'x1': 0.95, 'x2': 0.81}}  \n5   {'5_0': {'x1': 1.0, 'x2': 0.34}}  \n6   {'6_0': {'x1': 0.55, 'x2': 0.0}}  \n7   {'7_0': {'x1': 0.12, 'x2': 0.0}}  \n8   {'8_0': {'x1': 0.05, 'x2': 0.0}}  \n9  {'9_0': {'x1': 0.12, 'x2': 0.03}}  ",
      "text/html": "<div>\n<style scoped>\n    .dataframe tbody tr th:only-of-type {\n        vertical-align: middle;\n    }\n\n    .dataframe tbody tr th {\n        vertical-align: top;\n    }\n\n    .dataframe thead th {\n        text-align: right;\n    }\n</style>\n<table border=\"1\" class=\"dataframe\">\n  <thead>\n    <tr style=\"text-align: right;\">\n      <th></th>\n      <th>Generation Step</th>\n      <th>Generation Model</th>\n      <th>Trial Index</th>\n      <th>Trial Status</th>\n      <th>Arm Parameterizations</th>\n    </tr>\n  </thead>\n  <tbody>\n    <tr>\n      <th>0</th>\n      <td>GenerationStep_0</td>\n      <td>Sobol</td>\n      <td>0</td>\n      <td>COMPLETED</td>\n      <td>{'0_0': {'x1': 0.63, 'x2': 0.51}}</td>\n    </tr>\n    <tr>\n      <th>1</th>\n      <td>GenerationStep_0</td>\n      <td>Sobol</td>\n      <td>1</td>\n      <td>COMPLETED</td>\n      <td>{'1_0': {'x1': 0.43, 'x2': 0.4}}</td>\n    </tr>\n    <tr>\n      <th>2</th>\n      <td>GenerationStep_0</td>\n      <td>Sobol</td>\n      <td>2</td>\n      <td>COMPLETED</td>\n      <td>{'2_0': {'x1': 0.08, 'x2': 0.93}}</td>\n    </tr>\n    <tr>\n      <th>3</th>\n      <td>GenerationStep_0</td>\n      <td>Sobol</td>\n      <td>3</td>\n      <td>COMPLETED</td>\n      <td>{'3_0': {'x1': 0.86, 'x2': 0.04}}</td>\n    </tr>\n    <tr>\n      <th>4</th>\n      <td>GenerationStep_0</td>\n      <td>Sobol</td>\n      <td>4</td>\n      <td>COMPLETED</td>\n      <td>{'4_0': {'x1': 0.95, 'x2': 0.81}}</td>\n    </tr>\n    <tr>\n      <th>5</th>\n      <td>GenerationStep_1</td>\n      <td>BoTorch</td>\n      <td>5</td>\n      <td>COMPLETED</td>\n      <td>{'5_0': {'x1': 1.0, 'x2': 0.34}}</td>\n    </tr>\n    <tr>\n      <th>6</th>\n      <td>GenerationStep_1</td>\n      <td>BoTorch</td>\n      <td>6</td>\n      <td>COMPLETED</td>\n      <td>{'6_0': {'x1': 0.55, 'x2': 0.0}}</td>\n    </tr>\n    <tr>\n      <th>7</th>\n      <td>GenerationStep_1</td>\n      <td>BoTorch</td>\n      <td>7</td>\n      <td>COMPLETED</td>\n      <td>{'7_0': {'x1': 0.12, 'x2': 0.0}}</td>\n    </tr>\n    <tr>\n      <th>8</th>\n      <td>GenerationStep_1</td>\n      <td>BoTorch</td>\n      <td>8</td>\n      <td>COMPLETED</td>\n      <td>{'8_0': {'x1': 0.05, 'x2': 0.0}}</td>\n    </tr>\n    <tr>\n      <th>9</th>\n      <td>GenerationStep_1</td>\n      <td>BoTorch</td>\n      <td>9</td>\n      <td>COMPLETED</td>\n      <td>{'9_0': {'x1': 0.12, 'x2': 0.03}}</td>\n    </tr>\n  </tbody>\n</table>\n</div>"
     },
     "execution_count": 14,
     "metadata": {},
     "output_type": "execute_result"
    }
   ]
  },
  {
   "cell_type": "markdown",
   "metadata": {
    "originalKey": "ca47b562-3c01-4557-9c76-a7143a978dae",
    "showInput": false,
    "customInput": null,
    "code_folding": [],
    "hidden_ranges": []
   },
   "source": [
    "Plot the Pareto frontier.\n",
    "\n",
    "Note that we do not expect a good coverage of the Pareto frontier since we use very small number of evaluations and our acquisition function naively optimizes the sum of the two objectives."
   ]
  },
  {
   "cell_type": "code",
   "metadata": {
    "originalKey": "5bbd1ba3-1f88-45d3-b4a9-c660a4ff9449",
    "showInput": true,
    "customInput": null,
    "code_folding": [],
    "hidden_ranges": [],
    "collapsed": false,
    "requestMsgId": "6357abd4-a4b5-4bcb-bf11-9d0532db6072",
    "executionStopTime": 1668651301173,
    "executionStartTime": 1668651290670,
    "customOutput": null,
    "ExecuteTime": {
     "end_time": "2024-01-09T22:34:32.989724Z",
     "start_time": "2024-01-09T22:34:25.805227Z"
    }
   },
   "source": [
    "from ax.plot.pareto_frontier import plot_pareto_frontier\n",
    "from ax.plot.pareto_utils import compute_posterior_pareto_frontier\n",
    "from ax.utils.notebook.plotting import render\n",
    "\n",
    "\n",
    "objectives = ax_client.experiment.optimization_config.objective.objectives\n",
    "frontier = compute_posterior_pareto_frontier(\n",
    "    experiment=ax_client.experiment,\n",
    "    data=ax_client.experiment.fetch_data(),\n",
    "    primary_objective=objectives[1].metric,\n",
    "    secondary_objective=objectives[0].metric,\n",
    "    absolute_metrics=[\"branin\", \"currin\"],\n",
    ")\n",
    "render(plot_pareto_frontier(frontier, CI_level=0.90))"
   ],
   "execution_count": 15,
   "outputs": [
    {
     "data": {
      "image/png": "[encoded data removed]"
     },
     "metadata": {},
     "output_type": "display_data"
    }
   ]
  },
  {
   "cell_type": "markdown",
   "metadata": {
    "originalKey": "b9127c73-b1b6-4e46-b593-43068d5015a8",
    "showInput": false,
    "code_folding": [],
    "hidden_ranges": []
   },
   "source": [
    "### Appendix: Using `ScalarizedPosteriorTransform`\n",
    "\n",
    "Using the `ScalarizedPosteriorTransform` abstraction, the functionality of `ScalarizedUpperConfidenceBound` implemented above can be easily achieved in just a few lines of code. `PosteriorTransform`s can be used with both the MC and analytic acquisition functions."
   ]
  },
  {
   "cell_type": "code",
   "metadata": {
    "originalKey": "79a4b36f-4b14-4a62-9dc6-883931ceb5d3",
    "code_folding": [],
    "hidden_ranges": [],
    "collapsed": false,
    "requestMsgId": "490a2b3a-24f9-4b49-84f1-7a3851d5944f",
    "executionStopTime": 1668651301442,
    "executionStartTime": 1668651301431,
    "customOutput": null,
    "ExecuteTime": {
     "end_time": "2024-01-09T22:34:32.995181Z",
     "start_time": "2024-01-09T22:34:32.991006Z"
    }
   },
   "source": [
    "from botorch.acquisition.objective import ScalarizedPosteriorTransform\n",
    "from botorch.acquisition.analytic import UpperConfidenceBound\n",
    "\n",
    "pt = ScalarizedPosteriorTransform(weights=torch.tensor([0.1, 0.5]))\n",
    "SUCB = UpperConfidenceBound(gp, beta=0.1, posterior_transform=pt)"
   ],
   "execution_count": 16,
   "outputs": []
  }
 ]
}
