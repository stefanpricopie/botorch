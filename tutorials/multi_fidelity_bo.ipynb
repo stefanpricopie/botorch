{
 "cells": [
  {
   "cell_type": "markdown",
   "metadata": {},
   "source": [
    "## Continuous Multi-Fidelity BO in BoTorch with Knowledge Gradient\n",
    "\n",
    "In this tutorial, we show how to perform continuous multi-fidelity Bayesian optimization (BO) in BoTorch using the multi-fidelity Knowledge Gradient (qMFKG) acquisition function [1, 2].\n",
    "\n",
    "[1] [J. Wu, P.I. Frazier. Continuous-Fidelity Bayesian Optimization with Knowledge Gradient. NIPS Workshop on Bayesian Optimization, 2017.](https://bayesopt.github.io/papers/2017/20.pdf)\n",
    "\n",
    "[2] [J. Wu, S. Toscano-Palmerin, P.I. Frazier, A.G. Wilson. Practical Multi-fidelity Bayesian Optimization for Hyperparameter Tuning. Conference on Uncertainty in Artificial Intelligence (UAI), 2019](https://arxiv.org/pdf/1903.04703.pdf)"
   ]
  },
  {
   "cell_type": "markdown",
   "metadata": {},
   "source": [
    "### Set dtype and device"
   ]
  },
  {
   "cell_type": "code",
   "execution_count": 1,
   "metadata": {
    "ExecuteTime": {
     "end_time": "2024-01-09T14:12:49.123846Z",
     "start_time": "2024-01-09T14:12:48.096142Z"
    }
   },
   "outputs": [],
   "source": [
    "import os\n",
    "import torch\n",
    "\n",
    "\n",
    "tkwargs = {\n",
    "    \"dtype\": torch.double,\n",
    "    \"device\": torch.device(\"cuda\" if torch.cuda.is_available() else \"cpu\"),\n",
    "}\n",
    "SMOKE_TEST = os.environ.get(\"SMOKE_TEST\")"
   ]
  },
  {
   "cell_type": "markdown",
   "metadata": {},
   "source": [
    "### Problem setup\n",
    "\n",
    "We'll consider the Augmented Hartmann multi-fidelity synthetic test problem. This function is a version of the Hartmann6 test function with an additional dimension representing the fidelity parameter; details are in [2]. The function takes the form $f(x,s)$ where $x \\in [0,1]^6$ and $s \\in [0,1]$. The target fidelity is 1.0, which means that our goal is to solve $\\max_x f(x,1.0)$ by making use of cheaper evaluations $f(x,s)$ for $s < 1.0$. In this example, we'll assume that the cost function takes the form $5.0 + s$, illustrating a situation where the fixed cost is $5.0$."
   ]
  },
  {
   "cell_type": "code",
   "execution_count": 2,
   "metadata": {
    "ExecuteTime": {
     "end_time": "2024-01-09T14:12:49.407921Z",
     "start_time": "2024-01-09T14:12:49.124821Z"
    }
   },
   "outputs": [],
   "source": [
    "from botorch.test_functions.multi_fidelity import AugmentedHartmann\n",
    "\n",
    "\n",
    "problem = AugmentedHartmann(negate=True).to(**tkwargs)"
   ]
  },
  {
   "cell_type": "markdown",
   "metadata": {},
   "source": [
    "#### Model initialization\n",
    "\n",
    "We use a `SingleTaskMultiFidelityGP` as the surrogate model, which uses a kernel from [2] that is well-suited for multi-fidelity applications."
   ]
  },
  {
   "cell_type": "code",
   "execution_count": 3,
   "metadata": {
    "ExecuteTime": {
     "end_time": "2024-01-09T14:12:49.412742Z",
     "start_time": "2024-01-09T14:12:49.409484Z"
    }
   },
   "outputs": [],
   "source": [
    "from botorch.models.gp_regression_fidelity import SingleTaskMultiFidelityGP\n",
    "from botorch.models.transforms.outcome import Standardize\n",
    "from gpytorch.mlls.exact_marginal_log_likelihood import ExactMarginalLogLikelihood\n",
    "from botorch.utils.transforms import unnormalize\n",
    "from botorch.utils.sampling import draw_sobol_samples\n",
    "\n",
    "\n",
    "def generate_initial_data(n=16):\n",
    "    # generate training data\n",
    "    train_x = torch.rand(n, 7, **tkwargs)\n",
    "    train_obj = problem(train_x).unsqueeze(-1)  # add output dimension\n",
    "    return train_x, train_obj\n",
    "\n",
    "\n",
    "def initialize_model(train_x, train_obj):\n",
    "    # define a surrogate model suited for a \"training data\"-like fidelity parameter\n",
    "    # in dimension 6, as in [2]\n",
    "    model = SingleTaskMultiFidelityGP(\n",
    "        train_x, train_obj, outcome_transform=Standardize(m=1), data_fidelities=[6]\n",
    "    )\n",
    "    mll = ExactMarginalLogLikelihood(model.likelihood, model)\n",
    "    return mll, model"
   ]
  },
  {
   "cell_type": "markdown",
   "metadata": {},
   "source": [
    "#### Define a helper function to construct the MFKG acquisition function\n",
    "The helper function illustrates how one can initialize a $q$MFKG acquisition function. In this example, we assume that the affine cost is known. We then use the notion of a `CostAwareUtility` in BoTorch to scalarize the competing objectives of information gain and cost. The MFKG acquisition function optimizes the ratio of information gain to cost, which is captured by the `InverseCostWeightedUtility`.\n",
    "\n",
    "In order for MFKG to evaluate the information gain, it uses the model to predict the function value at the highest fidelity after conditioning on the observation. This is handled by the `project` argument, which specifies how to transform a tensor `X` to its target fidelity. We use a default helper function called `project_to_target_fidelity` to achieve this.\n",
    "\n",
    "An important point to keep in mind: in the case of standard KG, one can ignore the current value and simply optimize the expected maximum posterior mean of the next stage. However, for MFKG, since the goal is optimize information *gain* per cost, it is important to first compute the current value (i.e., maximum of the posterior mean at the target fidelity). To accomplish this, we use a `FixedFeatureAcquisitionFunction` on top of a `PosteriorMean`."
   ]
  },
  {
   "cell_type": "code",
   "execution_count": 4,
   "metadata": {
    "ExecuteTime": {
     "end_time": "2024-01-09T14:12:49.417114Z",
     "start_time": "2024-01-09T14:12:49.413526Z"
    }
   },
   "outputs": [],
   "source": [
    "from botorch import fit_gpytorch_mll\n",
    "from botorch.models.cost import AffineFidelityCostModel\n",
    "from botorch.acquisition.cost_aware import InverseCostWeightedUtility\n",
    "from botorch.acquisition import PosteriorMean\n",
    "from botorch.acquisition.knowledge_gradient import qMultiFidelityKnowledgeGradient\n",
    "from botorch.acquisition.fixed_feature import FixedFeatureAcquisitionFunction\n",
    "from botorch.optim.optimize import optimize_acqf\n",
    "from botorch.acquisition.utils import project_to_target_fidelity\n",
    "\n",
    "\n",
    "bounds = torch.tensor([[0.0] * problem.dim, [1.0] * problem.dim], **tkwargs)\n",
    "target_fidelities = {6: 1.0}\n",
    "\n",
    "cost_model = AffineFidelityCostModel(fidelity_weights={6: 1.0}, fixed_cost=5.0)\n",
    "cost_aware_utility = InverseCostWeightedUtility(cost_model=cost_model)\n",
    "\n",
    "\n",
    "def project(X):\n",
    "    return project_to_target_fidelity(X=X, target_fidelities=target_fidelities)\n",
    "\n",
    "\n",
    "def get_mfkg(model):\n",
    "\n",
    "    curr_val_acqf = FixedFeatureAcquisitionFunction(\n",
    "        acq_function=PosteriorMean(model),\n",
    "        d=7,\n",
    "        columns=[6],\n",
    "        values=[1],\n",
    "    )\n",
    "\n",
    "    _, current_value = optimize_acqf(\n",
    "        acq_function=curr_val_acqf,\n",
    "        bounds=bounds[:, :-1],\n",
    "        q=1,\n",
    "        num_restarts=10 if not SMOKE_TEST else 2,\n",
    "        raw_samples=1024 if not SMOKE_TEST else 4,\n",
    "        options={\"batch_limit\": 10, \"maxiter\": 200},\n",
    "    )\n",
    "\n",
    "    return qMultiFidelityKnowledgeGradient(\n",
    "        model=model,\n",
    "        num_fantasies=128 if not SMOKE_TEST else 2,\n",
    "        current_value=current_value,\n",
    "        cost_aware_utility=cost_aware_utility,\n",
    "        project=project,\n",
    "    )"
   ]
  },
  {
   "cell_type": "markdown",
   "metadata": {},
   "source": [
    "#### Define a helper function that performs the essential BO step\n",
    "This helper function optimizes the acquisition function and returns the batch $\\{x_1, x_2, \\ldots x_q\\}$ along with the observed function values. "
   ]
  },
  {
   "cell_type": "code",
   "execution_count": 5,
   "metadata": {
    "ExecuteTime": {
     "end_time": "2024-01-09T14:12:49.421692Z",
     "start_time": "2024-01-09T14:12:49.417003Z"
    }
   },
   "outputs": [],
   "source": [
    "from botorch.optim.initializers import gen_one_shot_kg_initial_conditions\n",
    "\n",
    "torch.set_printoptions(precision=3, sci_mode=False)\n",
    "\n",
    "NUM_RESTARTS = 10 if not SMOKE_TEST else 2\n",
    "RAW_SAMPLES = 512 if not SMOKE_TEST else 4\n",
    "\n",
    "\n",
    "def optimize_mfkg_and_get_observation(mfkg_acqf):\n",
    "    \"\"\"Optimizes MFKG and returns a new candidate, observation, and cost.\"\"\"\n",
    "\n",
    "    X_init = gen_one_shot_kg_initial_conditions(\n",
    "        acq_function=mfkg_acqf,\n",
    "        bounds=bounds,\n",
    "        q=4,\n",
    "        num_restarts=NUM_RESTARTS,\n",
    "        raw_samples=RAW_SAMPLES,\n",
    "    )\n",
    "    candidates, _ = optimize_acqf(\n",
    "        acq_function=mfkg_acqf,\n",
    "        bounds=bounds,\n",
    "        q=4,\n",
    "        num_restarts=NUM_RESTARTS,\n",
    "        raw_samples=RAW_SAMPLES,\n",
    "        batch_initial_conditions=X_init,\n",
    "        options={\"batch_limit\": 5, \"maxiter\": 200},\n",
    "    )\n",
    "    # observe new values\n",
    "    cost = cost_model(candidates).sum()\n",
    "    new_x = candidates.detach()\n",
    "    new_obj = problem(new_x).unsqueeze(-1)\n",
    "    print(f\"candidates:\\n{new_x}\\n\")\n",
    "    print(f\"observations:\\n{new_obj}\\n\\n\")\n",
    "    return new_x, new_obj, cost"
   ]
  },
  {
   "cell_type": "markdown",
   "metadata": {},
   "source": [
    "### Perform a few steps of multi-fidelity BO\n",
    "First, let's generate some initial random data and fit a surrogate model."
   ]
  },
  {
   "cell_type": "code",
   "execution_count": 6,
   "metadata": {
    "ExecuteTime": {
     "end_time": "2024-01-09T14:12:49.437807Z",
     "start_time": "2024-01-09T14:12:49.419385Z"
    }
   },
   "outputs": [],
   "source": [
    "train_x, train_obj = generate_initial_data(n=16)"
   ]
  },
  {
   "cell_type": "markdown",
   "metadata": {},
   "source": [
    "We can now use the helper functions above to run a few iterations of BO."
   ]
  },
  {
   "cell_type": "code",
   "execution_count": 7,
   "metadata": {
    "ExecuteTime": {
     "end_time": "2024-01-09T14:13:43.120754Z",
     "start_time": "2024-01-09T14:12:49.434823Z"
    }
   },
   "outputs": [
    {
     "name": "stdout",
     "output_type": "stream",
     "text": [
      "candidates:\n",
      "tensor([[0.343, 0.701, 0.869, 0.529, 0.599, 0.066, 0.000],\n",
      "        [0.349, 0.881, 0.773, 0.507, 0.621, 0.166, 0.000],\n",
      "        [0.478, 0.755, 0.872, 0.372, 0.577, 0.177, 0.000],\n",
      "        [0.491, 0.802, 0.692, 0.497, 0.529, 0.063, 0.000]],\n",
      "       dtype=torch.float64)\n",
      "\n",
      "observations:\n",
      "tensor([[2.185],\n",
      "        [2.256],\n",
      "        [1.285],\n",
      "        [2.456]], dtype=torch.float64)\n",
      "\n",
      "candidates:\n",
      "tensor([[0.344, 0.852, 0.657, 0.530, 0.587, 0.000, 0.000],\n",
      "        [0.317, 0.645, 0.411, 0.350, 0.769, 0.200, 0.000],\n",
      "        [0.490, 0.906, 0.772, 0.556, 0.523, 0.026, 0.014],\n",
      "        [0.464, 0.793, 0.665, 0.581, 0.595, 0.097, 0.000]],\n",
      "       dtype=torch.float64)\n",
      "\n",
      "observations:\n",
      "tensor([[2.802],\n",
      "        [0.760],\n",
      "        [2.753],\n",
      "        [2.627]], dtype=torch.float64)\n",
      "\n",
      "candidates:\n",
      "tensor([[0.472, 0.928, 0.651, 0.552, 0.695, 0.005, 0.004],\n",
      "        [0.619, 0.001, 0.971, 0.155, 0.002, 0.844, 0.974],\n",
      "        [0.231, 0.013, 0.994, 0.350, 0.004, 0.869, 0.699],\n",
      "        [0.415, 0.955, 0.605, 0.578, 0.514, 0.016, 0.037]],\n",
      "       dtype=torch.float64)\n",
      "\n",
      "observations:\n",
      "tensor([[2.751],\n",
      "        [0.231],\n",
      "        [0.323],\n",
      "        [2.984]], dtype=torch.float64)\n",
      "\n",
      "candidates:\n",
      "tensor([[0.444, 0.864, 0.612, 0.594, 0.478, 0.000, 0.819],\n",
      "        [0.504, 0.709, 0.688, 0.580, 0.628, 0.120, 0.000],\n",
      "        [0.415, 1.000, 0.638, 0.542, 0.514, 0.024, 0.834],\n",
      "        [0.357, 0.965, 0.697, 0.617, 0.544, 0.006, 0.825]],\n",
      "       dtype=torch.float64)\n",
      "\n",
      "observations:\n",
      "tensor([[2.988],\n",
      "        [1.882],\n",
      "        [2.773],\n",
      "        [2.769]], dtype=torch.float64)\n",
      "\n",
      "candidates:\n",
      "tensor([[0.405, 0.861, 0.635, 0.623, 0.412, 0.041, 0.815],\n",
      "        [0.422, 0.880, 0.518, 0.647, 0.534, 0.037, 0.821],\n",
      "        [0.337, 0.007, 0.542, 0.262, 0.006, 0.565, 1.000],\n",
      "        [0.162, 0.841, 0.261, 0.736, 0.666, 1.000, 1.000]],\n",
      "       dtype=torch.float64)\n",
      "\n",
      "observations:\n",
      "tensor([[3.083],\n",
      "        [2.950],\n",
      "        [0.672],\n",
      "        [0.006]], dtype=torch.float64)\n",
      "\n",
      "candidates:\n",
      "tensor([[0.407, 0.856, 0.604, 0.651, 0.331, 0.017, 0.821],\n",
      "        [0.409, 0.844, 0.677, 0.670, 0.462, 0.025, 0.824],\n",
      "        [0.567, 0.874, 0.248, 0.124, 0.672, 0.068, 1.000],\n",
      "        [0.250, 0.390, 0.969, 0.378, 0.775, 0.134, 1.000]],\n",
      "       dtype=torch.float64)\n",
      "\n",
      "observations:\n",
      "tensor([[2.962],\n",
      "        [2.839],\n",
      "        [0.255],\n",
      "        [0.182]], dtype=torch.float64)\n"
     ]
    }
   ],
   "source": [
    "cumulative_cost = 0.0\n",
    "N_ITER = 6 if not SMOKE_TEST else 2\n",
    "\n",
    "\n",
    "for _ in range(N_ITER):\n",
    "    mll, model = initialize_model(train_x, train_obj)\n",
    "    fit_gpytorch_mll(mll)\n",
    "    mfkg_acqf = get_mfkg(model)\n",
    "    new_x, new_obj, cost = optimize_mfkg_and_get_observation(mfkg_acqf)\n",
    "    train_x = torch.cat([train_x, new_x])\n",
    "    train_obj = torch.cat([train_obj, new_obj])\n",
    "    cumulative_cost += cost"
   ]
  },
  {
   "cell_type": "markdown",
   "metadata": {},
   "source": [
    "### Make a final recommendation\n",
    "In multi-fidelity BO, there are usually fewer observations of the function at the target fidelity, so it is important to use a recommendation function that uses the correct fidelity. Here, we maximize the posterior mean with the fidelity dimension fixed to the target fidelity of 1.0."
   ]
  },
  {
   "cell_type": "code",
   "execution_count": 8,
   "metadata": {
    "ExecuteTime": {
     "end_time": "2024-01-09T14:13:43.125308Z",
     "start_time": "2024-01-09T14:13:43.121640Z"
    }
   },
   "outputs": [],
   "source": [
    "def get_recommendation(model):\n",
    "    rec_acqf = FixedFeatureAcquisitionFunction(\n",
    "        acq_function=PosteriorMean(model),\n",
    "        d=7,\n",
    "        columns=[6],\n",
    "        values=[1],\n",
    "    )\n",
    "\n",
    "    final_rec, _ = optimize_acqf(\n",
    "        acq_function=rec_acqf,\n",
    "        bounds=bounds[:, :-1],\n",
    "        q=1,\n",
    "        num_restarts=NUM_RESTARTS,\n",
    "        raw_samples=RAW_SAMPLES,\n",
    "        options={\"batch_limit\": 5, \"maxiter\": 200},\n",
    "    )\n",
    "\n",
    "    final_rec = rec_acqf._construct_X_full(final_rec)\n",
    "\n",
    "    objective_value = problem(final_rec)\n",
    "    print(f\"recommended point:\\n{final_rec}\\n\\nobjective value:\\n{objective_value}\")\n",
    "    return final_rec"
   ]
  },
  {
   "cell_type": "code",
   "execution_count": 9,
   "metadata": {
    "ExecuteTime": {
     "end_time": "2024-01-09T14:13:43.308181Z",
     "start_time": "2024-01-09T14:13:43.123738Z"
    }
   },
   "outputs": [
    {
     "name": "stdout",
     "output_type": "stream",
     "text": [
      "recommended point:\n",
      "tensor([[0.409, 0.873, 0.647, 0.615, 0.461, 0.038, 1.000]],\n",
      "       dtype=torch.float64)\n",
      "\n",
      "objective value:\n",
      "tensor([3.102], dtype=torch.float64)\n",
      "\n",
      "total cost: 131.4871138756576\n"
     ]
    }
   ],
   "source": [
    "final_rec = get_recommendation(model)\n",
    "print(f\"\\ntotal cost: {cumulative_cost}\\n\")"
   ]
  },
  {
   "cell_type": "markdown",
   "metadata": {},
   "source": [
    "### Comparison to standard EI (always use target fidelity)\n",
    "Let's now repeat the same steps using a standard EI acquisition function (note that this is not a rigorous comparison as we are only looking at one trial in order to keep computational requirements low)."
   ]
  },
  {
   "cell_type": "code",
   "execution_count": 10,
   "metadata": {
    "ExecuteTime": {
     "end_time": "2024-01-09T14:13:43.308417Z",
     "start_time": "2024-01-09T14:13:43.306296Z"
    }
   },
   "outputs": [],
   "source": [
    "from botorch.acquisition import qExpectedImprovement\n",
    "\n",
    "\n",
    "def get_ei(model, best_f):\n",
    "\n",
    "    return FixedFeatureAcquisitionFunction(\n",
    "        acq_function=qExpectedImprovement(model=model, best_f=best_f),\n",
    "        d=7,\n",
    "        columns=[6],\n",
    "        values=[1],\n",
    "    )\n",
    "\n",
    "\n",
    "def optimize_ei_and_get_observation(ei_acqf):\n",
    "    \"\"\"Optimizes EI and returns a new candidate, observation, and cost.\"\"\"\n",
    "\n",
    "    candidates, _ = optimize_acqf(\n",
    "        acq_function=ei_acqf,\n",
    "        bounds=bounds[:, :-1],\n",
    "        q=4,\n",
    "        num_restarts=NUM_RESTARTS,\n",
    "        raw_samples=RAW_SAMPLES,\n",
    "        options={\"batch_limit\": 5, \"maxiter\": 200},\n",
    "    )\n",
    "\n",
    "    # add the fidelity parameter\n",
    "    candidates = ei_acqf._construct_X_full(candidates)\n",
    "\n",
    "    # observe new values\n",
    "    cost = cost_model(candidates).sum()\n",
    "    new_x = candidates.detach()\n",
    "    new_obj = problem(new_x).unsqueeze(-1)\n",
    "    print(f\"candidates:\\n{new_x}\\n\")\n",
    "    print(f\"observations:\\n{new_obj}\\n\\n\")\n",
    "    return new_x, new_obj, cost"
   ]
  },
  {
   "cell_type": "code",
   "execution_count": 11,
   "metadata": {
    "ExecuteTime": {
     "end_time": "2024-01-09T14:13:46.599818Z",
     "start_time": "2024-01-09T14:13:43.309471Z"
    }
   },
   "outputs": [
    {
     "name": "stdout",
     "output_type": "stream",
     "text": [
      "candidates:\n",
      "tensor([[0.533, 0.920, 0.286, 0.709, 0.096, 0.000, 1.000],\n",
      "        [0.594, 0.882, 0.319, 0.542, 0.000, 0.000, 1.000],\n",
      "        [0.643, 0.380, 0.230, 0.476, 0.213, 0.415, 1.000],\n",
      "        [0.923, 0.888, 0.032, 0.611, 0.256, 0.501, 1.000]],\n",
      "       dtype=torch.float64)\n",
      "\n",
      "observations:\n",
      "tensor([[1.921],\n",
      "        [1.658],\n",
      "        [0.563],\n",
      "        [0.026]], dtype=torch.float64)\n",
      "\n",
      "candidates:\n",
      "tensor([[0.530, 0.821, 0.496, 0.727, 0.123, 0.055, 1.000],\n",
      "        [0.416, 0.908, 0.231, 0.493, 0.153, 0.004, 1.000],\n",
      "        [0.367, 0.189, 0.130, 0.879, 0.174, 0.353, 1.000],\n",
      "        [0.517, 0.372, 0.625, 0.403, 0.931, 0.802, 1.000]],\n",
      "       dtype=torch.float64)\n",
      "\n",
      "observations:\n",
      "tensor([[1.867],\n",
      "        [2.867],\n",
      "        [0.034],\n",
      "        [0.077]], dtype=torch.float64)\n",
      "\n",
      "candidates:\n",
      "tensor([[0.753, 0.285, 0.731, 0.026, 0.018, 0.580, 1.000],\n",
      "        [0.416, 0.871, 0.321, 0.453, 0.172, 0.000, 1.000],\n",
      "        [0.763, 0.743, 0.675, 0.854, 0.805, 0.789, 1.000],\n",
      "        [0.809, 0.450, 0.688, 0.753, 0.274, 0.107, 1.000]],\n",
      "       dtype=torch.float64)\n",
      "\n",
      "observations:\n",
      "tensor([[0.187],\n",
      "        [2.665],\n",
      "        [0.003],\n",
      "        [0.036]], dtype=torch.float64)\n",
      "\n",
      "candidates:\n",
      "tensor([[0.916, 0.802, 0.725, 0.908, 0.864, 0.711, 1.000],\n",
      "        [0.273, 0.247, 0.785, 0.300, 0.584, 0.858, 1.000],\n",
      "        [0.615, 0.992, 0.160, 0.216, 0.992, 0.108, 1.000],\n",
      "        [0.408, 0.888, 0.198, 0.503, 0.095, 0.046, 1.000]],\n",
      "       dtype=torch.float64)\n",
      "\n",
      "observations:\n",
      "tensor([[    0.001],\n",
      "        [    0.640],\n",
      "        [    0.320],\n",
      "        [    2.975]], dtype=torch.float64)\n",
      "\n",
      "candidates:\n",
      "tensor([[0.739, 0.785, 0.412, 0.664, 0.504, 0.947, 1.000],\n",
      "        [0.686, 0.729, 0.404, 0.938, 0.351, 0.802, 1.000],\n",
      "        [0.398, 0.922, 0.218, 0.511, 0.033, 0.023, 1.000],\n",
      "        [0.748, 0.540, 0.845, 0.320, 0.430, 0.794, 1.000]],\n",
      "       dtype=torch.float64)\n",
      "\n",
      "observations:\n",
      "tensor([[0.026],\n",
      "        [0.013],\n",
      "        [2.960],\n",
      "        [0.580]], dtype=torch.float64)\n",
      "\n",
      "candidates:\n",
      "tensor([[0.625, 0.252, 0.291, 0.204, 0.104, 0.456, 1.000],\n",
      "        [0.366, 0.630, 0.431, 0.201, 0.873, 0.182, 1.000],\n",
      "        [0.412, 0.881, 0.125, 0.506, 0.040, 0.018, 1.000],\n",
      "        [0.968, 0.205, 0.857, 0.995, 0.663, 0.968, 1.000]],\n",
      "       dtype=torch.float64)\n",
      "\n",
      "observations:\n",
      "tensor([[0.610],\n",
      "        [0.381],\n",
      "        [2.952],\n",
      "        [0.056]], dtype=torch.float64)\n"
     ]
    }
   ],
   "source": [
    "cumulative_cost = 0.0\n",
    "\n",
    "train_x, train_obj = generate_initial_data(n=16)\n",
    "\n",
    "for _ in range(N_ITER):\n",
    "    mll, model = initialize_model(train_x, train_obj)\n",
    "    fit_gpytorch_mll(mll)\n",
    "    ei_acqf = get_ei(model, best_f=train_obj.max())\n",
    "    new_x, new_obj, cost = optimize_ei_and_get_observation(ei_acqf)\n",
    "    train_x = torch.cat([train_x, new_x])\n",
    "    train_obj = torch.cat([train_obj, new_obj])\n",
    "    cumulative_cost += cost"
   ]
  },
  {
   "cell_type": "code",
   "execution_count": 12,
   "metadata": {
    "ExecuteTime": {
     "end_time": "2024-01-09T14:13:46.802019Z",
     "start_time": "2024-01-09T14:13:46.600662Z"
    }
   },
   "outputs": [
    {
     "name": "stdout",
     "output_type": "stream",
     "text": [
      "recommended point:\n",
      "tensor([[0.408, 0.906, 0.182, 0.514, 0.062, 0.041, 1.000]],\n",
      "       dtype=torch.float64)\n",
      "\n",
      "objective value:\n",
      "tensor([3.004], dtype=torch.float64)\n",
      "\n",
      "total cost: 144.0\n"
     ]
    }
   ],
   "source": [
    "final_rec = get_recommendation(model)\n",
    "print(f\"\\ntotal cost: {cumulative_cost}\\n\")"
   ]
  }
 ],
 "metadata": {
  "kernelspec": {
   "display_name": "python3",
   "language": "python",
   "name": "python3"
  },
  "language_info": {
   "codemirror_mode": {
    "name": "ipython",
    "version": 3
   },
   "file_extension": ".py",
   "mimetype": "text/x-python",
   "name": "python",
   "nbconvert_exporter": "python",
   "pygments_lexer": "ipython3",
   "version": "3.8.5"
  }
 },
 "nbformat": 4,
 "nbformat_minor": 2
}
