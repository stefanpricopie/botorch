{
 "cells": [
  {
   "cell_type": "markdown",
   "metadata": {
    "collapsed": true
   },
   "source": [
    "## Application of batch-mode regression to cross-validation\n",
    "\n",
    "botorch provides a helper function `gen_loo_cv_folds` to easily perform leave-one-out (LOO) cross-validation (CV) by taking advantage of batch-mode regression and evaluation in GPyTorch. This tutorial illustrates the process on a noisy sinusoidal function, similar to the example from the batch-mode GP regression [tutorial](https://github.com/cornellius-gp/gpytorch/blob/master/examples/01_Exact_GPs/Simple_GP_Regression.ipynb) from GPyTorch:\n",
    "\n",
    "$$y = \\sin(2\\pi x) + \\epsilon, ~\\epsilon \\sim \\mathcal N(0, 0.2).$$\n",
    "\n",
    "Note: this tutorial aims to introduce batch-mode regression and evaluation in GPyTorch with CV as an example application. For alternative, more user-friendly functions to perform CV in Ax, see [ax.modelbridge.cross_validation](https://github.com/facebook/Ax/blob/main/ax/modelbridge/cross_validation.py). However, for larger CV tasks, it may be useful to exploit GPyTorch batch-mode, as shown in this tutorial."
   ]
  },
  {
   "cell_type": "code",
   "execution_count": 1,
   "metadata": {
    "collapsed": true,
    "ExecuteTime": {
     "end_time": "2024-01-06T18:47:29.075029Z",
     "start_time": "2024-01-06T18:47:28.426085Z"
    }
   },
   "outputs": [],
   "source": [
    "import torch\n",
    "import math\n",
    "\n",
    "device = torch.device(\"cpu\")\n",
    "dtype = torch.float64\n",
    "torch.manual_seed(3);"
   ]
  },
  {
   "cell_type": "markdown",
   "metadata": {},
   "source": [
    "### Initialize the CV dataset\n",
    "\n",
    "For our training data, we take 20 regularly spaced points on the interval $[0, 1]$ and generate noisy evaluations with an observed noise variance of 0.2. Remember that botorch requires an explicit output dimension."
   ]
  },
  {
   "cell_type": "code",
   "execution_count": 2,
   "metadata": {
    "collapsed": true,
    "ExecuteTime": {
     "end_time": "2024-01-06T18:47:29.079947Z",
     "start_time": "2024-01-06T18:47:29.076086Z"
    }
   },
   "outputs": [],
   "source": [
    "sigma = math.sqrt(0.2)\n",
    "train_X = torch.linspace(0, 1, 20, dtype=dtype, device=device).view(-1, 1)\n",
    "train_Y_noiseless = torch.sin(train_X * (2 * math.pi))\n",
    "train_Y = train_Y_noiseless + sigma * torch.randn_like(train_Y_noiseless)\n",
    "train_Yvar = torch.full_like(train_Y, 0.2)"
   ]
  },
  {
   "cell_type": "markdown",
   "metadata": {},
   "source": [
    "The botorch function `gen_loo_cv_folds` takes our observed data `train_X`, `train_Y`, `train_Yvar` as input and returns the LOO CV folds in a `CVFolds` object."
   ]
  },
  {
   "cell_type": "code",
   "execution_count": 11,
   "metadata": {
    "collapsed": true,
    "ExecuteTime": {
     "end_time": "2024-01-06T18:51:07.226916Z",
     "start_time": "2024-01-06T18:51:07.202345Z"
    }
   },
   "outputs": [],
   "source": [
    "from botorch.cross_validation import gen_loo_cv_folds\n",
    "\n",
    "cv_folds = gen_loo_cv_folds(train_X=train_X, train_Y=train_Y, train_Yvar=train_Yvar)"
   ]
  },
  {
   "cell_type": "markdown",
   "metadata": {},
   "source": [
    "The `cv_folds` object contains the data, stored as tensors of appropriate batch shape, necessary to perform 20 CVs of 19 training points and 1 test point. For example, we can check that the shapes of the training inputs and training targets are `b x n x d = 20 x 19 x 1` and `b x n x o = 20 x 19 x 1` respectively, where `o` is the number of outputs."
   ]
  },
  {
   "cell_type": "code",
   "execution_count": 12,
   "metadata": {
    "ExecuteTime": {
     "end_time": "2024-01-06T18:51:09.033216Z",
     "start_time": "2024-01-06T18:51:09.015005Z"
    }
   },
   "outputs": [
    {
     "data": {
      "text/plain": "(torch.Size([20, 19, 1]), torch.Size([20, 19, 1]))"
     },
     "execution_count": 12,
     "metadata": {},
     "output_type": "execute_result"
    }
   ],
   "source": [
    "cv_folds.train_X.shape, cv_folds.train_Y.shape"
   ]
  },
  {
   "cell_type": "code",
   "execution_count": 13,
   "metadata": {
    "ExecuteTime": {
     "end_time": "2024-01-06T18:51:09.605801Z",
     "start_time": "2024-01-06T18:51:09.600033Z"
    }
   },
   "outputs": [
    {
     "data": {
      "text/plain": "(torch.Size([20, 1, 1]), torch.Size([20, 1, 1]))"
     },
     "execution_count": 13,
     "metadata": {},
     "output_type": "execute_result"
    }
   ],
   "source": [
    "cv_folds.test_X.shape, cv_folds.test_Y.shape"
   ]
  },
  {
   "cell_type": "markdown",
   "metadata": {},
   "source": [
    "Note that in a situation where the dataset is large, one may not want to perform LOO; in that case, a similar process can be used to perform $k$-fold CV."
   ]
  },
  {
   "cell_type": "markdown",
   "metadata": {},
   "source": [
    "### Perform LOOCV\n",
    "\n",
    "We can use the `batch_cross_validation` function to perform LOOCV using batching (meaning that the `b = 20` sets of training data can be fit as `b = 20` separate GP models with separate hyperparameters in parallel through GPyTorch) and return a CVResult tuple with the batched `GPyTorchPosterior` object over the LOOCV test points and the observed targets. The `batch_cross_validation` requires a model class (`model_cls`) and a marginal log likelihood class (`mll_cls`). Since we have an observed and constant noise level, we will use the FixedNoiseGP as the `model_cls` and an ExactMarginalLogLikelihood as the `mll_cls`."
   ]
  },
  {
   "cell_type": "code",
   "execution_count": 14,
   "metadata": {
    "collapsed": true,
    "ExecuteTime": {
     "end_time": "2024-01-06T18:51:12.023705Z",
     "start_time": "2024-01-06T18:51:11.967912Z"
    }
   },
   "outputs": [
    {
     "name": "stderr",
     "output_type": "stream",
     "text": [
      "/Users/stefan/Desktop/botorch/botorch/models/utils/assorted.py:202: InputDataWarning: Input data is not standardized (mean = tensor([[ 0.0177],\n",
      "        [-0.0080],\n",
      "        [-0.0355],\n",
      "        [-0.0194],\n",
      "        [-0.0068],\n",
      "        [-0.0332],\n",
      "        [-0.0396],\n",
      "        [-0.0440],\n",
      "        [-0.0379],\n",
      "        [-0.0042],\n",
      "        [ 0.0043],\n",
      "        [ 0.0181],\n",
      "        [ 0.0650],\n",
      "        [ 0.0896],\n",
      "        [ 0.0714],\n",
      "        [ 0.0588],\n",
      "        [ 0.0559],\n",
      "        [ 0.0392],\n",
      "        [ 0.0112],\n",
      "        [ 0.0361]], dtype=torch.float64), std = tensor([[0.8070],\n",
      "        [0.8023],\n",
      "        [0.7775],\n",
      "        [0.7945],\n",
      "        [0.8029],\n",
      "        [0.7804],\n",
      "        [0.7720],\n",
      "        [0.7655],\n",
      "        [0.7744],\n",
      "        [0.8041],\n",
      "        [0.8067],\n",
      "        [0.8070],\n",
      "        [0.7697],\n",
      "        [0.7243],\n",
      "        [0.7599],\n",
      "        [0.7782],\n",
      "        [0.7817],\n",
      "        [0.7977],\n",
      "        [0.8075],\n",
      "        [0.7998]], dtype=torch.float64)). Please consider scaling the input to zero mean and unit variance.\n",
      "  warnings.warn(msg, InputDataWarning)\n"
     ]
    }
   ],
   "source": [
    "from botorch.cross_validation import batch_cross_validation\n",
    "from botorch.models import FixedNoiseGP\n",
    "from gpytorch.mlls.exact_marginal_log_likelihood import ExactMarginalLogLikelihood\n",
    "\n",
    "# instantiate and fit model\n",
    "cv_results = batch_cross_validation(\n",
    "    model_cls=FixedNoiseGP,\n",
    "    mll_cls=ExactMarginalLogLikelihood,\n",
    "    cv_folds=cv_folds,\n",
    ")"
   ]
  },
  {
   "cell_type": "markdown",
   "metadata": {},
   "source": [
    "#### Compute the cross-validation error and generate plots\n",
    "To compute the cross-validation error, we first evaluate the test points by computing the posterior in batch mode. Next, we compute the squared errors for each test point from the prediction and take an average across all cross-validation folds."
   ]
  },
  {
   "cell_type": "code",
   "execution_count": 15,
   "metadata": {
    "ExecuteTime": {
     "end_time": "2024-01-06T18:51:17.068231Z",
     "start_time": "2024-01-06T18:51:17.002535Z"
    }
   },
   "outputs": [
    {
     "name": "stdout",
     "output_type": "stream",
     "text": [
      "Cross-validation error:  0.11\n"
     ]
    },
    {
     "data": {
      "text/plain": "<Figure size 600x400 with 1 Axes>",
      "image/png": "[encoded data removed]"
     },
     "metadata": {},
     "output_type": "display_data"
    }
   ],
   "source": [
    "from matplotlib import pyplot as plt\n",
    "\n",
    "%matplotlib inline\n",
    "\n",
    "posterior = cv_results.posterior\n",
    "mean = posterior.mean\n",
    "cv_error = ((cv_folds.test_Y.squeeze() - mean.squeeze()) ** 2).mean()\n",
    "print(f\"Cross-validation error: {cv_error : 4.2}\")\n",
    "\n",
    "# get lower and upper confidence bounds\n",
    "lower, upper = posterior.mvn.confidence_region()\n",
    "\n",
    "# scatterplot of predicted versus test\n",
    "_, axes = plt.subplots(1, 1, figsize=(6, 4))\n",
    "plt.plot([-1.5, 1.5], [-1.5, 1.5], \"k\", label=\"true objective\", linewidth=2)\n",
    "\n",
    "axes.set_xlabel(\"Actual\")\n",
    "axes.set_ylabel(\"Predicted\")\n",
    "\n",
    "axes.errorbar(\n",
    "    x=cv_folds.test_Y.numpy().flatten(),\n",
    "    y=mean.numpy().flatten(),\n",
    "    xerr=1.96 * sigma,\n",
    "    yerr=((upper - lower) / 2).numpy().flatten(),\n",
    "    fmt=\"*\",\n",
    ");"
   ]
  },
  {
   "cell_type": "markdown",
   "metadata": {},
   "source": [
    "Finally, we can visualize the fitted models. To do this, we again take advantage of batch-mode evaluation to obtain predictions, including lower and upper confidence regions, from each of the 20 models."
   ]
  },
  {
   "cell_type": "code",
   "execution_count": 16,
   "metadata": {
    "collapsed": true,
    "ExecuteTime": {
     "end_time": "2024-01-06T18:51:21.286079Z",
     "start_time": "2024-01-06T18:51:21.274022Z"
    }
   },
   "outputs": [],
   "source": [
    "model = cv_results.model\n",
    "with torch.no_grad():\n",
    "    # evaluate the models at a series of points for plotting\n",
    "    plot_x = (\n",
    "        torch.linspace(0, 1, 101).view(1, -1, 1).repeat(cv_folds.train_X.shape[0], 1, 1)\n",
    "    )\n",
    "    posterior = model.posterior(plot_x)\n",
    "    mean = posterior.mean\n",
    "\n",
    "    # get lower and upper confidence bounds\n",
    "    lower, upper = posterior.mvn.confidence_region()\n",
    "    plot_x.squeeze_()"
   ]
  },
  {
   "cell_type": "code",
   "execution_count": 18,
   "outputs": [
    {
     "data": {
      "text/plain": "(torch.Size([20, 101, 1]), torch.Size([20, 101]), torch.Size([20, 101]))"
     },
     "execution_count": 18,
     "metadata": {},
     "output_type": "execute_result"
    }
   ],
   "source": [
    "mean.shape, lower.shape, upper.shape"
   ],
   "metadata": {
    "collapsed": false,
    "ExecuteTime": {
     "end_time": "2024-01-06T19:18:43.649489Z",
     "start_time": "2024-01-06T19:18:43.625161Z"
    }
   }
  },
  {
   "cell_type": "markdown",
   "metadata": {},
   "source": [
    "The code snippet below plots the result for the 12th CV fold (by setting `num = 12`), but note that we have computed the results for all folds above (other plots can be obtained by iterating `num` from 1 to 20)."
   ]
  },
  {
   "cell_type": "code",
   "execution_count": 17,
   "metadata": {
    "ExecuteTime": {
     "end_time": "2024-01-06T18:51:23.521568Z",
     "start_time": "2024-01-06T18:51:23.464029Z"
    }
   },
   "outputs": [
    {
     "data": {
      "text/plain": "<Figure size 600x400 with 1 Axes>",
      "image/png": "[encoded data removed]"
     },
     "metadata": {},
     "output_type": "display_data"
    }
   ],
   "source": [
    "_, axes = plt.subplots(1, 1, figsize=(6, 4))\n",
    "\n",
    "# plot the 12th CV fold\n",
    "num = 12\n",
    "\n",
    "# plot the training data in black\n",
    "axes.plot(\n",
    "    cv_folds.train_X[num - 1].detach().numpy(),\n",
    "    cv_folds.train_Y[num - 1].detach().numpy(),\n",
    "    \"k*\",\n",
    ")\n",
    "\n",
    "# plot the test data in red\n",
    "axes.plot(\n",
    "    cv_folds.test_X[num - 1].detach().numpy(),\n",
    "    cv_folds.test_Y[num - 1].detach().numpy(),\n",
    "    \"r*\",\n",
    ")\n",
    "\n",
    "# plot posterior means as blue line\n",
    "axes.plot(plot_x[num - 1].numpy(), mean[num - 1].numpy(), \"b\")\n",
    "\n",
    "# shade between the lower and upper confidence bounds\n",
    "axes.fill_between(\n",
    "    plot_x[num - 1].numpy(), lower[num - 1].numpy(), upper[num - 1].numpy(), alpha=0.5\n",
    ");"
   ]
  },
  {
   "cell_type": "code",
   "execution_count": 9,
   "metadata": {
    "collapsed": true,
    "ExecuteTime": {
     "end_time": "2024-01-06T18:47:29.773858Z",
     "start_time": "2024-01-06T18:47:29.770623Z"
    }
   },
   "outputs": [],
   "source": []
  }
 ],
 "metadata": {
  "fileHeader": "",
  "kernelspec": {
   "display_name": "python3",
   "language": "python",
   "name": "python3"
  }
 },
 "nbformat": 4,
 "nbformat_minor": 2
}
