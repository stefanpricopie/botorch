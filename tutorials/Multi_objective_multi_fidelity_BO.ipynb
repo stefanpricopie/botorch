{
 "cells": [
  {
   "cell_type": "markdown",
   "metadata": {
    "originalKey": "4be3ab76-0dde-4daa-81b7-68df50547590",
    "outputsInitialized": false,
    "showInput": false
   },
   "source": [
    "# Multi-fidelity Multi-Objective optimization  "
   ]
  },
  {
   "cell_type": "markdown",
   "metadata": {
    "originalKey": "8fb7e5e3-8176-4b7f-b9b6-9a20bfb7ad37",
    "outputsInitialized": false,
    "showInput": false
   },
   "source": [
    "In this tutorial notebook we demonstrate how to perform multi-objective multi-fidelity optimization in BoTorch using the multi-fidelity Hypervolume Knowledge Gradient (MF-HVKG) [3] and a method called Multi-Objective Multi-Fidelity (MOMF) [1]. \n",
    "\n",
    "MF-HVKG performs one-step lookahead: it operates under the assumption that we can make one additional observation, and after receiving that additional observation, we will select the Pareto set of optimal designs. HVKG seeks to select the design `x` to evaluate that maximizes the value of information about the Pareto set by maximizing the hypervolume under the posterior mean (conditional on receiving on new observation for the design `x`).\n",
    "\n",
    "MOMF is an alternative approach that introduces an additional \"fidelity objective\" that is optimized along with the problem objectives. This fidelity objective can be thought of as a trust objective that rewards the optimization when going to higher fidelity. Thus, the MOMF explicitly optimizes for getting more high-fidelity (trustworthy) data while taking into account the higher computational costs associated with it.\n",
    "\n",
    "HVKG is generally more cost efficient [3], since it explicitly targets the goal of MF optimization: select design points and fidelities that enable identifying about the Pareto Frontier at the target fidelity in a cost-aware fashion. MOMF will typically result in faster candidate generation. If the application is high-throughput and requires fast candidate generation, MOMF will be preferable. Otherwise, MF-HVKG will likely give better sample efficiency and performance [3].\n",
    "\n",
    "In this tutorial, we will optimize a synthetic function that is a modified multi-fidelity Branin-Currin [1]. This is a 3-dimesional, bi-objective problem with one of the input dimensions being the fidelity. For the MOMF, this results in a 3-objective problem since it also takes the fidelity objective into account. In this case the fidelity objective is a linear function of fidelity, $ f(s)=s$, where $s$ is the fidelity. The MOMF algorithm can accept any discrete or continuous cost functions as an input. In this example, we choose an exponential dependency of the form $C(s)=\\exp(4.8s)$. The goal of the optimization is to find the Pareto front, which is a trade-off solution set for Multi-objective problems, at the highest fidelity. \n",
    "\n",
    "Note: pymoo is an optional dependency that is used for determining the Pareto set of optimal designs under the model posterior mean using NSGA-II (which is not a sample efficient method, but sample efficiency is not critical for this step). If pymoo is not available, the Pareto set of optimal designs is selected from a discrete set. This will work okay for low-dim (e.g. \n",
    " dimensions) problems, but in general NSGA-II will yield far better results.\n",
    "\n",
    "[1] [Irshad, Faran, Stefan Karsch, and Andreas Döpp. \"Expected hypervolume improvement for simultaneous multi-objective and multi-fidelity optimization.\" arXiv preprint arXiv:2112.13901 (2021).](https://arxiv.org/abs/2112.13901)\n",
    "\n",
    "[2] [S. Daulton, M. Balandat, and E. Bakshy. Parallel Bayesian Optimization of Multiple Noisy Objectives. NeurIPS, 2021.](https://proceedings.neurips.cc/paper/2021/hash/11704817e347269b7254e744b5e22dac-Abstract.html)\n",
    "\n",
    "[3] [S. Daulton, M. Balandat, and E. Bakshy. Hypervolume Knowledge Gradient for Multi-Objective Bayesian Optimization with Partial Information. ICML, 2023.](https://proceedings.mlr.press/v202/daulton23a.html)"
   ]
  },
  {
   "cell_type": "code",
   "execution_count": 1,
   "metadata": {
    "code_folding": [],
    "customOutput": null,
    "executionStartTime": 1700239921224,
    "executionStopTime": 1700239921225,
    "hidden_ranges": [],
    "originalKey": "f53fac8a-e151-4f47-ac57-e3c49bc10fb8",
    "output": {
     "id": 1104960884022207,
     "loadingStatus": "loaded"
    },
    "outputsInitialized": true,
    "requestMsgId": "8ae17837-397d-4cff-a52a-82c4a268d159"
   },
   "outputs": [
    {
     "name": "stderr",
     "output_type": "stream",
     "text": [
      "I0205 114101.539 font_manager.py:1550] generated new fontManager\n",
      "I0205 114101.866 _utils_internal.py:234] NCCL_DEBUG env var is set to None\n",
      "I0205 114101.867 _utils_internal.py:252] NCCL_DEBUG is forced to WARN from None\n"
     ]
    }
   ],
   "source": [
    "import os\n",
    "from typing import Callable, Dict\n",
    "\n",
    "import matplotlib.pyplot as plt\n",
    "import numpy as np\n",
    "import torch"
   ]
  },
  {
   "cell_type": "markdown",
   "metadata": {
    "originalKey": "313624cb-6e9b-4419-aa46-53bc5dfdbae6",
    "outputsInitialized": false,
    "showInput": false
   },
   "source": [
    "### Set dtype and device \n",
    "Setting up the global variable that determine the device to run the optimization. The optimization is much faster when it runs on GPU."
   ]
  },
  {
   "cell_type": "code",
   "execution_count": 2,
   "metadata": {
    "code_folding": [],
    "customOutput": null,
    "executionStartTime": 1700239921898,
    "executionStopTime": 1700239921904,
    "hidden_ranges": [],
    "originalKey": "e7934480-1e9d-484c-8d49-d15d4cfcccc4",
    "outputsInitialized": false,
    "requestMsgId": "a2204a02-e2a6-4a9a-92db-effb9607bb05"
   },
   "outputs": [],
   "source": [
    "tkwargs = {  # Tkwargs is a dictionary contaning data about data type and data device\n",
    "    \"dtype\": torch.double,\n",
    "    \"device\": torch.device(\"cuda\" if torch.cuda.is_available() else \"cpu\"),\n",
    "}\n",
    "SMOKE_TEST = os.environ.get(\"SMOKE_TEST\")"
   ]
  },
  {
   "cell_type": "markdown",
   "metadata": {
    "originalKey": "6ab54ce1-7768-4460-b965-369fa1c4f664",
    "outputsInitialized": false,
    "showInput": false
   },
   "source": [
    "### Define the problem and optimization settings"
   ]
  },
  {
   "cell_type": "code",
   "execution_count": 3,
   "metadata": {
    "code_folding": [],
    "customOutput": null,
    "executionStartTime": 1700239922349,
    "executionStopTime": 1700239922400,
    "hidden_ranges": [],
    "originalKey": "1bffa4ee-f329-4e1a-be27-554eb1b7419b",
    "outputsInitialized": false,
    "requestMsgId": "76495050-3917-414e-94f4-d3bcacd0cfb5"
   },
   "outputs": [],
   "source": [
    "from botorch.test_functions.multi_objective_multi_fidelity import MOMFBraninCurrin\n",
    "\n",
    "BC = MOMFBraninCurrin(negate=True).to(**tkwargs)\n",
    "dim_x = BC.dim\n",
    "dim_y = BC.num_objectives\n",
    "\n",
    "ref_point = torch.zeros(dim_y, **tkwargs)\n",
    "\n",
    "\n",
    "BATCH_SIZE = 1  # For batch optimization, BATCH_SIZE should be greater than 1\n",
    "# This evaluation budget is set to be very low to make the notebook run fast. This should be much higher.\n",
    "EVAL_BUDGET = 2.05  # in terms of the number of full-fidelity evaluations\n",
    "n_INIT = 2  # Initialization budget in terms of the number of full-fidelity evaluations\n",
    "# Number of Monte Carlo samples, used to approximate MOMF\n",
    "MC_SAMPLES = 2 if SMOKE_TEST else 128\n",
    "# Number of restart points for multi-start optimization\n",
    "NUM_RESTARTS = 2 if SMOKE_TEST else 10\n",
    "# Number of raw samples for initial point selection heuristic\n",
    "RAW_SAMPLES = 4 if SMOKE_TEST else 512\n",
    "\n",
    "standard_bounds = torch.zeros(2, dim_x, **tkwargs)\n",
    "standard_bounds[1] = 1\n",
    "# mapping from index to target fidelity (highest fidelity)\n",
    "target_fidelities = {2: 1.0}"
   ]
  },
  {
   "cell_type": "markdown",
   "metadata": {
    "originalKey": "6a44ae07-fe2e-49e1-9825-e4cc13bff750",
    "outputsInitialized": false,
    "showInput": false
   },
   "source": [
    "### Helper functions to define Cost \n",
    "\n",
    "The cost_func function returns an exponential cost from the fidelity. The cost_callable is a wrapper around it that takes care of the input output shapes. This is provided to the MF algorithms which inversely weight the expected utility by the cost."
   ]
  },
  {
   "cell_type": "code",
   "execution_count": 4,
   "metadata": {
    "customOutput": null,
    "executionStartTime": 1700239923177,
    "executionStopTime": 1700239923187,
    "originalKey": "248720f2-59b3-4e39-848a-ada6084f8b89",
    "output": {
     "id": 603532655274696,
     "loadingStatus": "loaded"
    },
    "outputsInitialized": true,
    "requestMsgId": "a77f8c50-0b31-42a4-a036-2223c7da5474"
   },
   "outputs": [
    {
     "name": "stdout",
     "output_type": "stream",
     "text": [
      "Min Cost: 1.0\n",
      "Max Cost: 121.51041751873485\n"
     ]
    }
   ],
   "source": [
    "from math import exp\n",
    "\n",
    "\n",
    "def cost_func(x):\n",
    "    \"\"\"A simple exponential cost function.\"\"\"\n",
    "    exp_arg = torch.tensor(4.8, **tkwargs)\n",
    "    val = torch.exp(exp_arg * x)\n",
    "    return val\n",
    "\n",
    "\n",
    "# Displaying the min and max costs for this optimization\n",
    "print(f\"Min Cost: {cost_func(0)}\")\n",
    "print(f\"Max Cost: {cost_func(1)}\")\n",
    "\n",
    "\n",
    "def cost_callable(X: torch.Tensor) -> torch.Tensor:\n",
    "    r\"\"\"Wrapper for the cost function that takes care of shaping\n",
    "    input and output arrays for interfacing with cost_func.\n",
    "    This is passed as a callable function to MOMF.\n",
    "\n",
    "    Args:\n",
    "        X: A `batch_shape x q x d`-dim Tensor\n",
    "    Returns:\n",
    "        Cost `batch_shape x q x m`-dim Tensor of cost generated\n",
    "        from fidelity dimension using cost_func.\n",
    "    \"\"\"\n",
    "\n",
    "    return cost_func(X[..., -1:])"
   ]
  },
  {
   "cell_type": "markdown",
   "metadata": {
    "originalKey": "2f3f70a4-3654-4e65-ab6c-69b1e16ab3d6",
    "outputsInitialized": false,
    "showInput": false
   },
   "source": [
    "### Model Initialization \n",
    "We use a multi-output SingleTaskGP to model the problem with a homoskedastic Gaussian likelihood with an inferred noise level. \n",
    "The model is initialized with random points, where the fidelity is sampled from a probability distribution with a PDF that is inversely proportional to the cost: $p(s)=C(s)^{-1}$. The initialization is given a budget equivalent to 2 full-fidelity evaluations."
   ]
  },
  {
   "cell_type": "code",
   "execution_count": 5,
   "metadata": {
    "customOutput": null,
    "executionStartTime": 1700239924281,
    "executionStopTime": 1700239924318,
    "originalKey": "b35c722b-c75a-4e13-ab18-ff9fd01fad95",
    "outputsInitialized": false,
    "requestMsgId": "dcdc2b90-8d52-479b-9aea-e7a69bf194a3"
   },
   "outputs": [],
   "source": [
    "from botorch.models.gp_regression import SingleTaskGP\n",
    "from botorch.models.model_list_gp_regression import ModelListGP\n",
    "from botorch.models.transforms.outcome import Standardize\n",
    "from botorch.utils.transforms import normalize\n",
    "from gpytorch.kernels import MaternKernel, ScaleKernel\n",
    "from gpytorch.mlls.sum_marginal_log_likelihood import SumMarginalLogLikelihood\n",
    "from gpytorch.priors import GammaPrior\n",
    "\n",
    "\n",
    "def inv_transform(u):\n",
    "    # define inverse transform to sample from the probability distribution with\n",
    "    # PDF proportional to 1/(c(x))\n",
    "    # u is a uniform(0,1) rv\n",
    "    return 5 / 24 * torch.log(-exp(24 / 5) / (exp(24 / 5) * u - u - exp(24 / 5)))\n",
    "\n",
    "\n",
    "def gen_init_data(n: int):\n",
    "    r\"\"\"\n",
    "    Generates the initial data. Sample fidelities inversely proportional to cost.\n",
    "    \"\"\"\n",
    "    # total cost budget is n\n",
    "    train_x = torch.empty(\n",
    "        0, BC.bounds.shape[1], dtype=BC.bounds.dtype, device=BC.bounds.device\n",
    "    )\n",
    "    total_cost = 0\n",
    "    # assume target fidelity is 1\n",
    "    total_cost_limit = (\n",
    "        n\n",
    "        * cost_callable(\n",
    "            torch.ones(\n",
    "                1, BC.bounds.shape[1], dtype=BC.bounds.dtype, device=BC.bounds.device\n",
    "            )\n",
    "        ).item()\n",
    "    )\n",
    "    while total_cost < total_cost_limit:\n",
    "        new_x = torch.rand(\n",
    "            1, BC.bounds.shape[1], dtype=BC.bounds.dtype, device=BC.bounds.device\n",
    "        )\n",
    "        new_x[:, -1] = inv_transform(new_x[:, -1])\n",
    "        total_cost += cost_callable(new_x)\n",
    "        train_x = torch.cat([train_x, new_x], dim=0)\n",
    "    train_x = train_x[:-1]\n",
    "    train_obj = BC(train_x)\n",
    "    return train_x, train_obj\n",
    "\n",
    "\n",
    "def initialize_model(train_x, train_obj, state_dict=None):\n",
    "    \"\"\"Initializes a ModelList with Matern 5/2 Kernel and returns the model and its MLL.\n",
    "\n",
    "    Note: a batched model could also be used here.\n",
    "    \"\"\"\n",
    "    models = []\n",
    "    for i in range(train_obj.shape[-1]):\n",
    "        m = SingleTaskGP(\n",
    "            train_x,\n",
    "            train_obj[:, i : i + 1],\n",
    "            train_Yvar=torch.full_like(train_obj[:, i : i + 1], 1e-6),\n",
    "            outcome_transform=Standardize(m=1),\n",
    "            covar_module=ScaleKernel(\n",
    "                MaternKernel(\n",
    "                    nu=2.5,\n",
    "                    ard_num_dims=train_x.shape[-1],\n",
    "                    lengthscale_prior=GammaPrior(2.0, 2.0),\n",
    "                ),\n",
    "                outputscale_prior=GammaPrior(2.0, 0.15),\n",
    "            ),\n",
    "        )\n",
    "        models.append(m)\n",
    "    model = ModelListGP(*models)\n",
    "    mll = SumMarginalLogLikelihood(model.likelihood, model)\n",
    "    if state_dict is not None:\n",
    "        model.load_state_dict(state_dict=state_dict)\n",
    "    return mll, model"
   ]
  },
  {
   "cell_type": "markdown",
   "metadata": {
    "originalKey": "dcc1666f-f387-40b0-8137-25b133d22dd2",
    "outputsInitialized": false,
    "showInput": false
   },
   "source": [
    "### Helper function to optimize acquisition function \n",
    "This is a helper function that initializes, optimizes the acquisition function MOMF and returns the new_x and new_obj. The problem is called from within this helper function.\n",
    "\n",
    "A simple initialization heuristic is used to select the 20 restart initial locations from a set of 1024 random points. Multi-start optimization of the acquisition function is performed using LBFGS-B with exact gradients computed via auto-differentiation."
   ]
  },
  {
   "cell_type": "code",
   "execution_count": 6,
   "metadata": {
    "code_folding": [],
    "customOutput": null,
    "executionStartTime": 1700239926777,
    "executionStopTime": 1700239926816,
    "hidden_ranges": [],
    "originalKey": "9095cc6a-0e14-4be1-ae9b-e56535e2dcba",
    "outputsInitialized": false,
    "requestMsgId": "fe16757e-7f35-462b-a5ca-cd0ddf689f79"
   },
   "outputs": [],
   "source": [
    "from botorch.acquisition.multi_objective.multi_fidelity import MOMF\n",
    "from botorch.optim.optimize import optimize_acqf\n",
    "from botorch.sampling.normal import SobolQMCNormalSampler\n",
    "from botorch.utils.multi_objective.box_decompositions.non_dominated import (\n",
    "    FastNondominatedPartitioning,\n",
    ")\n",
    "from botorch.utils.transforms import unnormalize\n",
    "\n",
    "\n",
    "dim_y_momf = dim_y + 1  # Output Dimesnion for MOMF optimization\n",
    "ref_point_momf = torch.zeros(dim_y_momf, **tkwargs)\n",
    "\n",
    "\n",
    "def fid_obj(X: torch.Tensor) -> torch.Tensor:\n",
    "    \"\"\"\n",
    "    A Fidelity Objective that can be thought of as a trust objective.\n",
    "    Higher Fidelity simulations are rewarded as being more\n",
    "    trustworthy. Here we consider just a linear fidelity objective.\n",
    "    \"\"\"\n",
    "    fid_obj = 1 * X[..., -1]\n",
    "    return fid_obj\n",
    "\n",
    "\n",
    "def get_objective_momf(x: torch.Tensor) -> torch.Tensor:\n",
    "    \"\"\"Wrapper around the Objective function to take care of fid_obj stacking\"\"\"\n",
    "    y = BC(x)  # The Branin-Currin is called\n",
    "    fid = fid_obj(x)  # Getting the fidelity objective values\n",
    "    fid_out = fid.unsqueeze(-1)\n",
    "    # Concatenating objective values with fid_objective\n",
    "    y_out = torch.cat([y, fid_out], -1)\n",
    "    return y_out\n",
    "\n",
    "\n",
    "def optimize_MOMF_and_get_obs(\n",
    "    model: SingleTaskGP,\n",
    "    train_obj: torch.Tensor,\n",
    "    sampler: SobolQMCNormalSampler,\n",
    "    ref_point: torch.Tensor,\n",
    "    standard_bounds: torch.Tensor,\n",
    "    BATCH_SIZE: int,\n",
    "    cost_call: Callable[[torch.Tensor], torch.Tensor],\n",
    "):\n",
    "    \"\"\"\n",
    "    Wrapper to call MOMF and optimizes it in a sequential greedy\n",
    "    fashion returning a new candidate and evaluation\n",
    "    \"\"\"\n",
    "    partitioning = FastNondominatedPartitioning(ref_point=ref_point, Y=train_obj)\n",
    "    acq_func = MOMF(\n",
    "        model=model,\n",
    "        ref_point=ref_point,  # use known reference point\n",
    "        partitioning=partitioning,\n",
    "        sampler=sampler,\n",
    "        cost_call=cost_call,\n",
    "    )\n",
    "    # Optimization\n",
    "    candidates, vals = optimize_acqf(\n",
    "        acq_function=acq_func,\n",
    "        bounds=standard_bounds,\n",
    "        q=BATCH_SIZE,\n",
    "        num_restarts=NUM_RESTARTS,\n",
    "        raw_samples=RAW_SAMPLES,  # used for intialization heuristic\n",
    "        options={\n",
    "            \"batch_limit\": 5,\n",
    "            \"maxiter\": 20 if SMOKE_TEST else 200,\n",
    "            \"nonnegative\": True,\n",
    "        },\n",
    "        sequential=True,\n",
    "    )\n",
    "    # if the AF val is 0, set the fidelity parameter to zero\n",
    "    if vals.item() == 0.0:\n",
    "        candidates[:, -1] = 0.0\n",
    "    # observe new values\n",
    "    new_x = unnormalize(candidates.detach(), bounds=standard_bounds)\n",
    "    new_obj = get_objective_momf(new_x)\n",
    "    return new_x, new_obj"
   ]
  },
  {
   "cell_type": "markdown",
   "metadata": {
    "customInput": null,
    "originalKey": "f580b5fe-d172-4d7f-a40a-98bc8acdd0f8",
    "outputsInitialized": false,
    "showInput": false
   },
   "source": [
    "### Define helper functions for MF-HVKG\n",
    "\n",
    "`get_current_value` optimizes the current posterior mean at the full fidelity to determine the hypervolume under the current model.\n",
    "\n",
    "`optimize_HVKG_and_get_obs` creates the MF-HVKG acquisition function, optimizes it, and returns the new design and corresponding observation.\n"
   ]
  },
  {
   "cell_type": "code",
   "execution_count": 7,
   "metadata": {
    "customInput": null,
    "executionStartTime": 1700239931973,
    "executionStopTime": 1700239932009,
    "originalKey": "1d61db27-bd71-4e4c-bffc-b8279771e682",
    "outputsInitialized": false,
    "requestMsgId": "e3e094aa-d96f-42f2-b499-0bdce21228d6",
    "showInput": true
   },
   "outputs": [],
   "source": [
    "from botorch.acquisition.cost_aware import InverseCostWeightedUtility\n",
    "from botorch.acquisition.fixed_feature import FixedFeatureAcquisitionFunction\n",
    "from botorch.acquisition.multi_objective.hypervolume_knowledge_gradient import (\n",
    "    _get_hv_value_function,\n",
    "    qMultiFidelityHypervolumeKnowledgeGradient,\n",
    ")\n",
    "from botorch.acquisition.utils import project_to_target_fidelity\n",
    "from botorch.models.deterministic import GenericDeterministicModel\n",
    "from torch import Tensor\n",
    "\n",
    "NUM_INNER_MC_SAMPLES = 2 if SMOKE_TEST else 32\n",
    "NUM_PARETO = 3 if SMOKE_TEST else 10\n",
    "NUM_FANTASIES = 2 if SMOKE_TEST else 8\n",
    "\n",
    "\n",
    "def get_current_value(\n",
    "    model: SingleTaskGP,\n",
    "    ref_point: torch.Tensor,\n",
    "    bounds: torch.Tensor,\n",
    "    normalized_target_fidelities: Dict[int, float],\n",
    "):\n",
    "    \"\"\"Helper to get the hypervolume of the current hypervolume\n",
    "    maximizing set.\n",
    "    \"\"\"\n",
    "    fidelity_dims, fidelity_targets = zip(*normalized_target_fidelities.items())\n",
    "    # optimize\n",
    "    non_fidelity_dims = list(set(range(dim_x)) - set(fidelity_dims))\n",
    "    curr_val_acqf = FixedFeatureAcquisitionFunction(\n",
    "        acq_function=_get_hv_value_function(\n",
    "            model=model,\n",
    "            ref_point=ref_point,\n",
    "            sampler=SobolQMCNormalSampler(\n",
    "                sample_shape=torch.Size([NUM_INNER_MC_SAMPLES]),\n",
    "                resample=False,\n",
    "                collapse_batch_dims=True,\n",
    "            ),\n",
    "            use_posterior_mean=True,\n",
    "        ),\n",
    "        d=dim_x,\n",
    "        columns=fidelity_dims,\n",
    "        values=fidelity_targets,\n",
    "    )\n",
    "    # optimize\n",
    "    _, current_value = optimize_acqf(\n",
    "        acq_function=curr_val_acqf,\n",
    "        bounds=bounds[:, non_fidelity_dims],\n",
    "        q=NUM_PARETO,\n",
    "        num_restarts=1,\n",
    "        raw_samples=1024,\n",
    "        return_best_only=True,\n",
    "        options={\"nonnegative\": True},\n",
    "    )\n",
    "    return current_value\n",
    "\n",
    "\n",
    "normalized_target_fidelities = {}\n",
    "for idx, fidelity in target_fidelities.items():\n",
    "    lb = standard_bounds[0, idx].item()\n",
    "    ub = standard_bounds[1, idx].item()\n",
    "    normalized_target_fidelities[idx] = (fidelity - lb) / (ub - lb)\n",
    "project_d = dim_x\n",
    "\n",
    "\n",
    "def project(X: Tensor) -> Tensor:\n",
    "\n",
    "    return project_to_target_fidelity(\n",
    "        X=X,\n",
    "        d=project_d,\n",
    "        target_fidelities=normalized_target_fidelities,\n",
    "    )\n",
    "\n",
    "\n",
    "def optimize_HVKG_and_get_obs(\n",
    "    model: SingleTaskGP,\n",
    "    ref_point: torch.Tensor,\n",
    "    standard_bounds: torch.Tensor,\n",
    "    BATCH_SIZE: int,\n",
    "    cost_call: Callable[[torch.Tensor], torch.Tensor],\n",
    "):\n",
    "    \"\"\"Utility to initialize and optimize HVKG.\"\"\"\n",
    "    cost_model = GenericDeterministicModel(cost_call)\n",
    "    cost_aware_utility = InverseCostWeightedUtility(cost_model=cost_model)\n",
    "    current_value = get_current_value(\n",
    "        model=model,\n",
    "        ref_point=ref_point,\n",
    "        bounds=standard_bounds,\n",
    "        normalized_target_fidelities=normalized_target_fidelities,\n",
    "    )\n",
    "\n",
    "    acq_func = qMultiFidelityHypervolumeKnowledgeGradient(\n",
    "        model=model,\n",
    "        ref_point=ref_point,  # use known reference point\n",
    "        num_fantasies=NUM_FANTASIES,\n",
    "        num_pareto=NUM_PARETO,\n",
    "        current_value=current_value,\n",
    "        cost_aware_utility=cost_aware_utility,\n",
    "        target_fidelities=normalized_target_fidelities,\n",
    "        project=project,\n",
    "    )\n",
    "    # Optimization\n",
    "    candidates, vals = optimize_acqf(\n",
    "        acq_function=acq_func,\n",
    "        bounds=standard_bounds,\n",
    "        q=BATCH_SIZE,\n",
    "        num_restarts=1,\n",
    "        raw_samples=RAW_SAMPLES,  # used for intialization heuristic\n",
    "        options={\"batch_limit\": 5},\n",
    "    )\n",
    "    # if the AF val is 0, set the fidelity parameter to zero\n",
    "    if vals.item() == 0.0:\n",
    "        candidates[:, -1] = 0.0\n",
    "    # observe new values\n",
    "    new_x = unnormalize(candidates.detach(), bounds=BC.bounds)\n",
    "    new_obj = BC(new_x)\n",
    "    return new_x, new_obj"
   ]
  },
  {
   "cell_type": "markdown",
   "metadata": {
    "originalKey": "bdb86f2e-6774-4b00-af78-d081948812a5",
    "outputsInitialized": false,
    "showInput": false
   },
   "source": [
    "### Define helper functions for MF-HVKG\n",
    "\n",
    "We run MOMF to optimize the multi-fidelity versions of the Branin-Currin functions. The optimization loop works in the following sequence. \n",
    "\n",
    "1. At the start with an initialization equivalent to 2 full fidelity evaluations.\n",
    "2. The models are used to generate an acquisition function that is optimized to select new input parameters\n",
    "3. The objective function is evaluated at the suggested new_x and returns a new_obj.\n",
    "4. The models are updated with the new points and then are used again to make the next prediction.\n",
    "\n",
    "The evaluation budget for the optimization is set to 4 full fidelity evaluations.\n",
    "\n",
    "Note: running this takes some time.\n"
   ]
  },
  {
   "cell_type": "code",
   "execution_count": 8,
   "metadata": {
    "customInput": null,
    "customOutput": null,
    "executionStartTime": 1700239933421,
    "executionStopTime": 1700239933474,
    "originalKey": "ec218c40-b012-40cc-bc28-ff0b2bedc941",
    "outputsInitialized": false,
    "requestMsgId": "e5e1ca9f-350b-4d84-85cc-b5765bd5479e",
    "showInput": true
   },
   "outputs": [],
   "source": [
    "from botorch import fit_gpytorch_mll"
   ]
  },
  {
   "cell_type": "code",
   "execution_count": 9,
   "metadata": {
    "code_folding": [],
    "customOutput": null,
    "executionStartTime": 1700239934173,
    "executionStopTime": 1700239960450,
    "hidden_ranges": [],
    "originalKey": "d250edba-f44e-4630-a1d1-90d050115f80",
    "output": {
     "id": 360706396734736,
     "loadingStatus": "loaded"
    },
    "outputsInitialized": false,
    "requestMsgId": "a740fdb3-387b-46f7-9715-1247be0f0c7b"
   },
   "outputs": [
    {
     "name": "stderr",
     "output_type": "stream",
     "text": [
      "[W 240205 11:41:03 noise_models:150] Very small noise values detected. This will likely lead to numerical instabilities. Rounding small noise values up to 1e-06.\n",
      "[W 240205 11:41:06 noise_models:150] Very small noise values detected. This will likely lead to numerical instabilities. Rounding small noise values up to 1e-06.\n",
      "[W 240205 11:41:09 noise_models:150] Very small noise values detected. This will likely lead to numerical instabilities. Rounding small noise values up to 1e-06.\n",
      "[W 240205 11:41:12 noise_models:150] Very small noise values detected. This will likely lead to numerical instabilities. Rounding small noise values up to 1e-06.\n"
     ]
    },
    {
     "name": "stdout",
     "output_type": "stream",
     "text": [
      "CPU times: user 7min 40s, sys: 8.7 s, total: 7min 49s\n",
      "Wall time: 11.8 s\n"
     ]
    }
   ],
   "source": [
    "%%time\n",
    "\n",
    "# Intializing train_x to zero\n",
    "verbose = False\n",
    "torch.manual_seed(0)\n",
    "train_x_momf, _ = gen_init_data(n_INIT)\n",
    "train_obj_momf = get_objective_momf(train_x_momf)\n",
    "# Generate Sampler\n",
    "momf_sampler = SobolQMCNormalSampler(sample_shape=torch.Size([MC_SAMPLES]))\n",
    "\n",
    "# run N_BATCH rounds of BayesOpt after the initial random batch\n",
    "iteration = 0\n",
    "total_cost = cost_callable(train_x_momf).sum().item()\n",
    "while total_cost < EVAL_BUDGET * cost_func(1):\n",
    "    if verbose:\n",
    "        print(f\"cost: {total_cost}\")\n",
    "\n",
    "    # reinitialize the models so they are ready for fitting on next iteration\n",
    "    mll, model = initialize_model(normalize(train_x_momf, BC.bounds), train_obj_momf)\n",
    "\n",
    "    fit_gpytorch_mll(mll=mll)  # Fit the model\n",
    "\n",
    "    # optimize acquisition functions and get new observations\n",
    "    new_x, new_obj = optimize_MOMF_and_get_obs(\n",
    "        model=model,\n",
    "        train_obj=train_obj_momf,\n",
    "        sampler=momf_sampler,\n",
    "        ref_point=ref_point_momf,\n",
    "        standard_bounds=standard_bounds,\n",
    "        BATCH_SIZE=BATCH_SIZE,\n",
    "        cost_call=cost_callable,\n",
    "    )\n",
    "    # Updating train_x and train_obj\n",
    "    train_x_momf = torch.cat([train_x_momf, new_x], dim=0)\n",
    "    train_obj_momf = torch.cat([train_obj_momf, new_obj], dim=0)\n",
    "    iteration += 1\n",
    "    total_cost += cost_callable(new_x).sum().item()"
   ]
  },
  {
   "cell_type": "markdown",
   "metadata": {
    "customInput": null,
    "executionStartTime": 1699738891403,
    "executionStopTime": 1699738891407,
    "originalKey": "2e193c2e-f4c4-4d2c-b592-f51a6cc3d5a9",
    "outputsInitialized": false,
    "requestMsgId": "2e193c2e-f4c4-4d2c-b592-f51a6cc3d5a9",
    "showInput": false
   },
   "source": [
    "### Run MF-HVKG"
   ]
  },
  {
   "cell_type": "code",
   "execution_count": 10,
   "metadata": {
    "customInput": null,
    "customOutput": null,
    "executionStartTime": 1700239960506,
    "executionStopTime": 1700240950614,
    "originalKey": "4a9f3f42-dd1f-45f2-9125-511f72ad337a",
    "output": {
     "id": 1036214770804288,
     "loadingStatus": "loaded"
    },
    "outputsInitialized": false,
    "requestMsgId": "de9c995c-66dd-49de-b8cf-dc834e52fc38",
    "showInput": true
   },
   "outputs": [
    {
     "name": "stderr",
     "output_type": "stream",
     "text": [
      "[W 240205 11:41:15 noise_models:150] Very small noise values detected. This will likely lead to numerical instabilities. Rounding small noise values up to 1e-06.\n",
      "[W 240205 11:41:24 noise_models:150] Very small noise values detected. This will likely lead to numerical instabilities. Rounding small noise values up to 1e-06.\n",
      "[W 240205 11:41:32 noise_models:150] Very small noise values detected. This will likely lead to numerical instabilities. Rounding small noise values up to 1e-06.\n",
      "[W 240205 11:41:41 noise_models:150] Very small noise values detected. This will likely lead to numerical instabilities. Rounding small noise values up to 1e-06.\n",
      "[W 240205 11:41:50 noise_models:150] Very small noise values detected. This will likely lead to numerical instabilities. Rounding small noise values up to 1e-06.\n",
      "[W 240205 11:41:59 noise_models:150] Very small noise values detected. This will likely lead to numerical instabilities. Rounding small noise values up to 1e-06.\n",
      "[W 240205 11:42:08 noise_models:150] Very small noise values detected. This will likely lead to numerical instabilities. Rounding small noise values up to 1e-06.\n",
      "[W 240205 11:42:17 noise_models:150] Very small noise values detected. This will likely lead to numerical instabilities. Rounding small noise values up to 1e-06.\n",
      "[W 240205 11:42:27 noise_models:150] Very small noise values detected. This will likely lead to numerical instabilities. Rounding small noise values up to 1e-06.\n",
      "[W 240205 11:42:40 noise_models:150] Very small noise values detected. This will likely lead to numerical instabilities. Rounding small noise values up to 1e-06.\n",
      "[W 240205 11:42:54 noise_models:150] Very small noise values detected. This will likely lead to numerical instabilities. Rounding small noise values up to 1e-06.\n",
      "[W 240205 11:43:05 noise_models:150] Very small noise values detected. This will likely lead to numerical instabilities. Rounding small noise values up to 1e-06.\n",
      "[W 240205 11:43:16 noise_models:150] Very small noise values detected. This will likely lead to numerical instabilities. Rounding small noise values up to 1e-06.\n",
      "[W 240205 11:43:27 noise_models:150] Very small noise values detected. This will likely lead to numerical instabilities. Rounding small noise values up to 1e-06.\n"
     ]
    },
    {
     "name": "stdout",
     "output_type": "stream",
     "text": [
      "CPU times: user 1h 31min 31s, sys: 2min 42s, total: 1h 34min 13s\n",
      "Wall time: 2min 22s\n"
     ]
    }
   ],
   "source": [
    "%%time\n",
    "\n",
    "torch.manual_seed(0)\n",
    "train_x_kg, train_obj_kg = gen_init_data(n_INIT)\n",
    "MF_n_INIT = train_x_kg.shape[0]\n",
    "iteration = 0\n",
    "total_cost = cost_callable(train_x_kg).sum().item()\n",
    "while total_cost < EVAL_BUDGET * cost_func(1):\n",
    "    if verbose:\n",
    "        print(f\"cost: {total_cost}\")\n",
    "\n",
    "    # reinitialize the models so they are ready for fitting on next iteration\n",
    "    mll, model = initialize_model(normalize(train_x_kg, BC.bounds), train_obj_kg)\n",
    "\n",
    "    fit_gpytorch_mll(mll=mll)  # Fit the model\n",
    "    # optimize acquisition functions and get new observations\n",
    "    new_x, new_obj = optimize_HVKG_and_get_obs(\n",
    "        model=model,\n",
    "        ref_point=ref_point,\n",
    "        standard_bounds=standard_bounds,\n",
    "        BATCH_SIZE=BATCH_SIZE,\n",
    "        cost_call=cost_callable,\n",
    "    )\n",
    "    # Updating train_x and train_obj\n",
    "    train_x_kg = torch.cat([train_x_kg, new_x], dim=0)\n",
    "    train_obj_kg = torch.cat([train_obj_kg, new_obj], dim=0)\n",
    "    iteration += 1\n",
    "    total_cost += cost_callable(new_x).sum().item()"
   ]
  },
  {
   "cell_type": "markdown",
   "metadata": {
    "originalKey": "bc189d13-6ad9-4687-8e67-c506dcc1dad1",
    "outputsInitialized": true,
    "showInput": false
   },
   "source": [
    "### Result:  Evaluating the Pareto front at the highest fidelity using NSGA-II on the posterior mean\n"
   ]
  },
  {
   "cell_type": "code",
   "execution_count": 11,
   "metadata": {
    "customOutput": null,
    "executionStartTime": 1700240950637,
    "executionStopTime": 1700240950639,
    "originalKey": "275b1f0b-4d84-4318-99b1-c1a7505bf1a4",
    "outputsInitialized": false,
    "requestMsgId": "19199126-7e1c-4adb-88bb-35d42d1f26af"
   },
   "outputs": [],
   "source": [
    "from botorch.utils.multi_objective.pareto import (\n",
    "    _is_non_dominated_loop,\n",
    "    is_non_dominated,\n",
    ")\n",
    "from gpytorch import settings\n",
    "\n",
    "try:\n",
    "    # Note: These are the pymoo 0.6+ imports, if you happen to be stuck on\n",
    "    # an older pymoo version you need to replace them with the ones below.\n",
    "    from pymoo.algorithms.moo.nsga2 import NSGA2\n",
    "    from pymoo.core.problem import Problem\n",
    "    from pymoo.optimize import minimize\n",
    "    from pymoo.termination.max_gen import MaximumGenerationTermination\n",
    "\n",
    "    # from pymoo.algorithms.nsga2 import NSGA2\n",
    "    # from pymoo.model.problem import Problem\n",
    "    # from pymoo.util.termination.max_gen import MaximumGenerationTermination\n",
    "\n",
    "    def get_pareto(\n",
    "        model,\n",
    "        non_fidelity_indices,\n",
    "        project,\n",
    "        population_size=20 if SMOKE_TEST else 250,\n",
    "        max_gen=10 if SMOKE_TEST else 100,\n",
    "        is_mf_model=True,\n",
    "    ):\n",
    "        \"\"\"Optimize the posterior mean using NSGA-II.\"\"\"\n",
    "        tkwargs = {\n",
    "            \"dtype\": BC.ref_point.dtype,\n",
    "            \"device\": BC.ref_point.device,\n",
    "        }\n",
    "        dim = len(non_fidelity_indices)\n",
    "\n",
    "        class PosteriorMeanPymooProblem(Problem):\n",
    "            def __init__(self):\n",
    "                super().__init__(\n",
    "                    n_var=dim,\n",
    "                    n_obj=BC.num_objectives,\n",
    "                    type_var=np.double,\n",
    "                )\n",
    "                self.xl = np.zeros(dim)\n",
    "                self.xu = np.ones(dim)\n",
    "\n",
    "            def _evaluate(self, x, out, *args, **kwargs):\n",
    "                X = torch.from_numpy(x).to(**tkwargs)\n",
    "                if is_mf_model:\n",
    "                    X = project(X)\n",
    "                with torch.no_grad():\n",
    "                    with settings.cholesky_max_tries(9):\n",
    "                        # eval in batch mode\n",
    "                        y = model.posterior(X.unsqueeze(-2)).mean.squeeze(-2)\n",
    "                out[\"F\"] = -y.cpu().numpy()\n",
    "\n",
    "        pymoo_problem = PosteriorMeanPymooProblem()\n",
    "        algorithm = NSGA2(\n",
    "            pop_size=population_size,\n",
    "            eliminate_duplicates=True,\n",
    "        )\n",
    "        res = minimize(\n",
    "            pymoo_problem,\n",
    "            algorithm,\n",
    "            termination=MaximumGenerationTermination(max_gen),\n",
    "            seed=0,  # fix seed\n",
    "            verbose=False,\n",
    "        )\n",
    "        X = torch.tensor(\n",
    "            res.X,\n",
    "            **tkwargs,\n",
    "        )\n",
    "        # project to full fidelity\n",
    "        if is_mf_model:\n",
    "            if project is not None:\n",
    "                X = project(X)\n",
    "        # determine Pareto set of designs under model\n",
    "        with torch.no_grad():\n",
    "            preds = model.posterior(X.unsqueeze(-2)).mean.squeeze(-2)\n",
    "        pareto_mask = is_non_dominated(preds)\n",
    "        X = X[pareto_mask]\n",
    "        # evaluate Pareto set of designs on true function and compute hypervolume\n",
    "        if not is_mf_model:\n",
    "            X = project(X)\n",
    "        X = unnormalize(X, BC.bounds)\n",
    "        Y = BC(X)\n",
    "        # compute HV\n",
    "        partitioning = FastNondominatedPartitioning(ref_point=BC.ref_point, Y=Y)\n",
    "        return partitioning.compute_hypervolume().item()\n",
    "\n",
    "except ImportError:\n",
    "    NUM_DISCRETE_POINTS = 10 if SMOKE_TEST else 100000\n",
    "    CHUNK_SIZE = 512\n",
    "\n",
    "    def get_pareto(\n",
    "        model,\n",
    "        non_fidelity_indices,\n",
    "        project,\n",
    "        population_size=20 if SMOKE_TEST else 250,\n",
    "        max_gen=10 if SMOKE_TEST else 100,\n",
    "        is_mf_model=True,\n",
    "    ):\n",
    "        \"\"\"Optimize the posterior mean over a discrete set.\"\"\"\n",
    "        tkwargs = {\n",
    "            \"dtype\": BC.ref_point.dtype,\n",
    "            \"device\": BC.ref_point.device,\n",
    "        }\n",
    "        dim_x = BC.dim\n",
    "\n",
    "        discrete_set = torch.rand(NUM_DISCRETE_POINTS, dim_x - 1, **tkwargs)\n",
    "        if is_mf_model:\n",
    "            discrete_set = project(discrete_set)\n",
    "        discrete_set[:, -1] = 1.0  # set to target fidelity\n",
    "        with torch.no_grad():\n",
    "            preds_list = []\n",
    "            for start in range(0, NUM_DISCRETE_POINTS, CHUNK_SIZE):\n",
    "                preds = model.posterior(\n",
    "                    discrete_set[start : start + CHUNK_SIZE].unsqueeze(-2)\n",
    "                ).mean.squeeze(-2)\n",
    "                preds_list.append(preds)\n",
    "            preds = torch.cat(preds_list, dim=0)\n",
    "            pareto_mask = _is_non_dominated_loop(preds)\n",
    "            pareto_X = discrete_set[pareto_mask]\n",
    "        if not is_mf_model:\n",
    "            pareto_X = project(pareto_X)\n",
    "        pareto_X = unnormalize(pareto_X, BC.bounds)\n",
    "        Y = BC(pareto_X)\n",
    "        # compute HV\n",
    "        partitioning = FastNondominatedPartitioning(ref_point=BC.ref_point, Y=Y)\n",
    "        return partitioning.compute_hypervolume().item()"
   ]
  },
  {
   "cell_type": "markdown",
   "metadata": {
    "customInput": null,
    "originalKey": "ad70a987-1877-4bc1-a4cd-49fca37dff2b",
    "outputsInitialized": false,
    "showInput": false
   },
   "source": [
    "## Evaluate MF-HVKG\n",
    "\n",
    "We evaluate performance after every 5 evaluations (this is to speed things up, since there are many observations)."
   ]
  },
  {
   "cell_type": "code",
   "execution_count": 12,
   "metadata": {
    "customInput": null,
    "customOutput": null,
    "executionStartTime": 1700240950661,
    "executionStopTime": 1700241053956,
    "originalKey": "41ef8566-7400-441c-8087-d5842df6117d",
    "output": {
     "id": 1868435296927876,
     "loadingStatus": "loaded"
    },
    "outputsInitialized": false,
    "requestMsgId": "7ff2bd5b-cf9b-4843-9b7b-9fc463b52385",
    "showInput": true
   },
   "outputs": [
    {
     "name": "stderr",
     "output_type": "stream",
     "text": [
      "[W 240205 11:43:37 noise_models:150] Very small noise values detected. This will likely lead to numerical instabilities. Rounding small noise values up to 1e-06.\n",
      "[W 240205 11:43:39 noise_models:150] Very small noise values detected. This will likely lead to numerical instabilities. Rounding small noise values up to 1e-06.\n",
      "[W 240205 11:43:41 noise_models:150] Very small noise values detected. This will likely lead to numerical instabilities. Rounding small noise values up to 1e-06.\n"
     ]
    },
    {
     "name": "stdout",
     "output_type": "stream",
     "text": [
      "CPU times: user 4min 26s, sys: 3.89 s, total: 4min 30s\n",
      "Wall time: 6.79 s\n"
     ]
    }
   ],
   "source": [
    "%%time\n",
    "\n",
    "hvs_kg = []\n",
    "costs = []\n",
    "for i in range(MF_n_INIT, train_x_kg.shape[0] + 1, 5):\n",
    "\n",
    "    mll, model = initialize_model(\n",
    "        normalize(train_x_kg[:i], BC.bounds), train_obj_kg[:i]\n",
    "    )\n",
    "    fit_gpytorch_mll(mll)\n",
    "    hypervolume = get_pareto(model, project=project, non_fidelity_indices=[0, 1])\n",
    "    hvs_kg.append(hypervolume)\n",
    "    costs.append(cost_callable(train_x_kg[:i]).sum().item())"
   ]
  },
  {
   "cell_type": "markdown",
   "metadata": {
    "customInput": null,
    "executionStartTime": 1699739200762,
    "executionStopTime": 1699739200768,
    "originalKey": "11350000-d066-49a3-b950-f7633e1c507a",
    "outputsInitialized": false,
    "requestMsgId": "11350000-d066-49a3-b950-f7633e1c507a",
    "showInput": false
   },
   "source": [
    "## Evaluate MOMF\n",
    "\n",
    "We evaluate performance after every evaluation (there are not as many evaluations since MOMF queries higher fidelities more frequently)."
   ]
  },
  {
   "cell_type": "code",
   "execution_count": 13,
   "metadata": {
    "customInput": null,
    "customOutput": null,
    "executionStartTime": 1700241054021,
    "executionStopTime": 1700241163531,
    "originalKey": "7770db5f-be4d-40eb-b525-c6d18932c198",
    "output": {
     "id": 370365252377373,
     "loadingStatus": "loaded"
    },
    "outputsInitialized": false,
    "requestMsgId": "89819efc-dd7a-42cf-8144-d9b6480bb5ae",
    "showInput": true
   },
   "outputs": [
    {
     "name": "stderr",
     "output_type": "stream",
     "text": [
      "[W 240205 11:43:44 noise_models:150] Very small noise values detected. This will likely lead to numerical instabilities. Rounding small noise values up to 1e-06.\n",
      "[W 240205 11:43:46 noise_models:150] Very small noise values detected. This will likely lead to numerical instabilities. Rounding small noise values up to 1e-06.\n",
      "[W 240205 11:43:48 noise_models:150] Very small noise values detected. This will likely lead to numerical instabilities. Rounding small noise values up to 1e-06.\n",
      "[W 240205 11:43:50 noise_models:150] Very small noise values detected. This will likely lead to numerical instabilities. Rounding small noise values up to 1e-06.\n",
      "[W 240205 11:43:52 noise_models:150] Very small noise values detected. This will likely lead to numerical instabilities. Rounding small noise values up to 1e-06.\n"
     ]
    },
    {
     "name": "stdout",
     "output_type": "stream",
     "text": [
      "CPU times: user 7min 2s, sys: 5.89 s, total: 7min 8s\n",
      "Wall time: 10.8 s\n"
     ]
    }
   ],
   "source": [
    "%%time\n",
    "\n",
    "hvs_momf = []\n",
    "costs_momf = []\n",
    "for i in range(MF_n_INIT, train_x_momf.shape[0] + 1):\n",
    "\n",
    "    mll, model = initialize_model(\n",
    "        normalize(train_x_momf[:i], BC.bounds), train_obj_momf[:i, :2]\n",
    "    )\n",
    "    fit_gpytorch_mll(mll)\n",
    "    hypervolume = get_pareto(model, project=project, non_fidelity_indices=[0, 1])\n",
    "    hvs_momf.append(hypervolume)\n",
    "    costs_momf.append(cost_callable(train_x_momf[:i]).sum().item())"
   ]
  },
  {
   "cell_type": "markdown",
   "metadata": {
    "customInput": null,
    "originalKey": "f9e4b24a-6f83-4dd3-b1a4-9a3ebc231813",
    "outputsInitialized": false,
    "showInput": false
   },
   "source": [
    "### Plot log inference hypervolume regret (under the model) vs cost\n",
    "\n",
    "Log inference hypervolume regret, defined as the logarithm of the difference between the maximum hypervolume dominated by the Pareto frontier and the hypervolume corresponding to the Pareto set identified by each algorithm, is a performance evaluation criterion for multi-information source multi-objective optimization [3]."
   ]
  },
  {
   "cell_type": "code",
   "execution_count": 14,
   "metadata": {
    "customInput": null,
    "executionStartTime": 1700241163589,
    "executionStopTime": 1700241164394,
    "originalKey": "0f68e995-1461-40bc-b71b-40d66dabefca",
    "output": {
     "id": 1032923858006252,
     "loadingStatus": "loaded"
    },
    "outputsInitialized": true,
    "requestMsgId": "0f0468b8-cbaf-47a1-b66a-200ebc3f5d89",
    "showInput": true
   },
   "outputs": [
    {
     "data": {
      "text/plain": [
       "<matplotlib.legend.Legend at 0x7f9f6703ebc0>"
      ]
     },
     "execution_count": 15,
     "metadata": {},
     "output_type": "execute_result"
    },
    {
     "data": {
      "image/png": "[encoded data removed]",
      "text/plain": [
       "<Figure size 1500x1000 with 1 Axes>"
      ]
     },
     "metadata": {},
     "output_type": "display_data"
    }
   ],
   "source": [
    "plt.plot(\n",
    "    costs_momf,\n",
    "    np.log10(BC.max_hv - np.array(hvs_momf)),\n",
    "    \"--\",\n",
    "    marker=\"s\",\n",
    "    ms=10,\n",
    "    label=\"MOMF\",\n",
    ")\n",
    "plt.plot(\n",
    "    costs, np.log10(BC.max_hv - np.array(hvs_kg)), \"--\", marker=\"d\", ms=10, label=\"HVKG\"\n",
    ")\n",
    "plt.ylabel(\"Log Inference Hypervolume Regret\")\n",
    "plt.xlabel(\"Cost\")\n",
    "plt.legend()"
   ]
  }
 ],
 "metadata": {
  "custom": {
   "cells": [],
   "metadata": {
    "custom": {
     "cells": [],
     "metadata": {
      "fileHeader": "",
      "fileUid": "de076d04-5d05-41f5-835c-89532288cbc3",
      "isAdHoc": false,
      "kernelspec": {
       "display_name": "Python 3 (ipykernel)",
       "language": "python",
       "name": "python3"
      },
      "language_info": {
       "codemirror_mode": {
        "name": "ipython",
        "version": 3
       },
       "file_extension": ".py",
       "mimetype": "text/x-python",
       "name": "python",
       "nbconvert_exporter": "python",
       "pygments_lexer": "ipython3",
       "version": "3.10.13"
      },
      "toc": {
       "base_numbering": 1,
       "nav_menu": [],
       "number_sections": true,
       "sideBar": true,
       "skip_h1_title": false,
       "title_cell": "Table of Contents",
       "title_sidebar": "Contents",
       "toc_cell": false,
       "toc_position": [],
       "toc_section_display": true,
       "toc_window_display": false
      },
      "varInspector": {
       "cols": {
        "lenName": 16,
        "lenType": 16,
        "lenVar": 40
       },
       "kernels_config": {
        "python": {
         "delete_cmd_postfix": "",
         "delete_cmd_prefix": "del ",
         "library": "var_list.py",
         "varRefreshCmd": "print(var_dic_list())"
        },
        "r": {
         "delete_cmd_postfix": ") ",
         "delete_cmd_prefix": "rm(",
         "library": "var_list.r",
         "varRefreshCmd": "cat(var_dic_list()) "
        }
       },
       "position": {
        "height": "423.4px",
        "left": "858.8px",
        "right": "20px",
        "top": "120px",
        "width": "350px"
       },
       "types_to_exclude": [
        "module",
        "function",
        "builtin_function_or_method",
        "instance",
        "_Feature"
       ],
       "window_display": false
      }
     },
     "nbformat": 4,
     "nbformat_minor": 2
    },
    "fileHeader": "",
    "fileUid": "05dd24d9-3801-45cc-b930-c3be4864c50b",
    "indentAmount": 2,
    "isAdHoc": false,
    "language_info": {
     "name": "plaintext"
    }
   },
   "nbformat": 4,
   "nbformat_minor": 2
  },
  "fileHeader": "",
  "fileUid": "608ac2c8-1d1c-4562-95a3-b228e435d2cf",
  "indentAmount": 2,
  "isAdHoc": false,
  "kernelspec": {
   "display_name": "Python 3 (ipykernel)",
   "language": "python",
   "name": "python3"
  },
  "language_info": {
   "codemirror_mode": {
    "name": "ipython",
    "version": 3
   },
   "file_extension": ".py",
   "mimetype": "text/x-python",
   "name": "python",
   "nbconvert_exporter": "python",
   "pygments_lexer": "ipython3",
   "version": "3.11.7"
  }
 },
 "nbformat": 4,
 "nbformat_minor": 4
}
