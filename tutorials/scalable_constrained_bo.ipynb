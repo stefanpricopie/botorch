{
 "cells": [
  {
   "cell_type": "markdown",
   "metadata": {},
   "source": [
    "# Scalable Constrained Bayesian Optimization (SCBO)\n",
    "In this tutorial, we show how to implement Scalable Constrained Bayesian Optimization (SCBO) [1] in a closed loop in BoTorch.\n",
    "\n",
    "We optimize the 10𝐷 Ackley function on the domain $[−5,10]^{10}$. This implementation uses two simple constraint functions $c1$ and $c2$. Our goal is to find an $x$ that maximizes the Ackley function subject to the constraints $c1(x) \\leq 0$ and $c2(x) \\leq 0$.\n",
    "\n",
    "[1]: David Eriksson and Matthias Poloczek. Scalable constrained Bayesian optimization. In International Conference on Artificial Intelligence and Statistics, pages 730–738. PMLR, 2021.\n",
    "(https://doi.org/10.48550/arxiv.2002.08526)\n",
    "\n",
    "Since SCBO is essentially a constrained version of Trust Region Bayesian Optimization (TuRBO), this tutorial shares much of the same code as the TuRBO Tutorial (https://botorch.org/tutorials/turbo_1) with small modifications made to implement SCBO."
   ]
  },
  {
   "cell_type": "code",
   "execution_count": 1,
   "metadata": {
    "ExecuteTime": {
     "end_time": "2024-01-20T21:49:07.484023Z",
     "start_time": "2024-01-20T21:49:06.054677Z"
    }
   },
   "outputs": [],
   "source": [
    "import math\n",
    "import os\n",
    "import warnings\n",
    "from dataclasses import dataclass\n",
    "\n",
    "import gpytorch\n",
    "import torch\n",
    "from gpytorch.constraints import Interval\n",
    "from gpytorch.kernels import MaternKernel, ScaleKernel\n",
    "from gpytorch.likelihoods import GaussianLikelihood\n",
    "from gpytorch.mlls import ExactMarginalLogLikelihood\n",
    "from torch import Tensor\n",
    "from torch.quasirandom import SobolEngine\n",
    "\n",
    "from botorch.fit import fit_gpytorch_mll\n",
    "# Constrained Max Posterior Sampling s a new sampling class, similar to MaxPosteriorSampling,\n",
    "# which implements the constrained version of Thompson Sampling described in [1].\n",
    "from botorch.generation.sampling import ConstrainedMaxPosteriorSampling\n",
    "from botorch.models import SingleTaskGP\n",
    "from botorch.models.model_list_gp_regression import ModelListGP\n",
    "from botorch.models.transforms.outcome import Standardize\n",
    "from botorch.test_functions import Ackley\n",
    "from botorch.utils.transforms import unnormalize\n",
    "\n",
    "warnings.filterwarnings(\"ignore\")\n",
    "\n",
    "device = torch.device(\"cuda\" if torch.cuda.is_available() else \"cpu\")\n",
    "dtype = torch.double\n",
    "tkwargs = {\"device\": device, \"dtype\": dtype}\n",
    "\n",
    "SMOKE_TEST = os.environ.get(\"SMOKE_TEST\")"
   ]
  },
  {
   "cell_type": "markdown",
   "metadata": {},
   "source": [
    "## Demonstration with 10-dimensional Ackley function and Two Simple Constraint Functions"
   ]
  },
  {
   "cell_type": "code",
   "execution_count": 2,
   "metadata": {
    "ExecuteTime": {
     "end_time": "2024-01-20T21:49:07.489992Z",
     "start_time": "2024-01-20T21:49:07.485946Z"
    }
   },
   "outputs": [
    {
     "name": "stdout",
     "output_type": "stream",
     "text": [
      "tensor([[-32.7680, -32.7680, -32.7680, -32.7680, -32.7680, -32.7680, -32.7680,\n",
      "         -32.7680, -32.7680, -32.7680],\n",
      "        [ 32.7680,  32.7680,  32.7680,  32.7680,  32.7680,  32.7680,  32.7680,\n",
      "          32.7680,  32.7680,  32.7680]], dtype=torch.float64)\n",
      "tensor([[-5.0000, -5.0000, -5.0000, -5.0000, -5.0000, -5.0000, -5.0000, -5.0000,\n",
      "         -5.0000, -5.0000],\n",
      "        [32.7680, 32.7680, 32.7680, 32.7680, 32.7680, 32.7680, 32.7680, 32.7680,\n",
      "         32.7680, 32.7680]], dtype=torch.float64)\n",
      "tensor([[-5., -5., -5., -5., -5., -5., -5., -5., -5., -5.],\n",
      "        [10., 10., 10., 10., 10., 10., 10., 10., 10., 10.]],\n",
      "       dtype=torch.float64)\n"
     ]
    }
   ],
   "source": [
    "# Here we define the example 10D Ackley function\n",
    "fun = Ackley(dim=10, negate=True).to(**tkwargs)\n",
    "fun.bounds[0, :].fill_(-5)\n",
    "fun.bounds[1, :].fill_(10)\n",
    "dim = fun.dim\n",
    "lb, ub = fun.bounds\n",
    "\n",
    "batch_size = 4\n",
    "n_init = 10\n",
    "max_cholesky_size = float(\"inf\")  # Always use Cholesky\n",
    "\n",
    "# When evaluating the function, we must first unnormalize the inputs since\n",
    "# we will use normalized inputs x in the main optimizaiton loop\n",
    "def eval_objective(x):\n",
    "    \"\"\"This is a helper function we use to unnormalize and evalaute a point\"\"\"\n",
    "    return fun(unnormalize(x, fun.bounds))"
   ]
  },
  {
   "cell_type": "markdown",
   "metadata": {},
   "source": [
    "### Defining two simple constraint functions\n",
    "\n",
    "#### We'll use two constraints functions: c1 and c2 \n",
    "We want to find solutions which maximize the above Ackley objective subject to the constraint that \n",
    "c1(x) <= 0 and c2(x) <= 0 \n",
    "Note that SCBO expects all constraints to be of the for c(x) <= 0, so any other desired constraints must be modified to fit this form. \n",
    "\n",
    "Note also that while the below constraints are very simple functions, the point of this tutorial is to show how to use SCBO, and this same implementation could be applied in the same way if c1, c2 were actually complex black-box functions. \n"
   ]
  },
  {
   "cell_type": "code",
   "execution_count": 3,
   "metadata": {
    "ExecuteTime": {
     "end_time": "2024-01-20T21:49:07.494628Z",
     "start_time": "2024-01-20T21:49:07.490924Z"
    }
   },
   "outputs": [],
   "source": [
    "def c1(x):  # Equivalent to enforcing that sum(x) <= 0\n",
    "    return x.sum()\n",
    "\n",
    "\n",
    "def c2(x):  # Equivalent to enforcing that ||x||_2 <= 5\n",
    "    return torch.norm(x, p=2) - 5\n",
    "\n",
    "\n",
    "# We assume c1, c2 have same bounds as the Ackley function above\n",
    "def eval_c1(x):\n",
    "    \"\"\"This is a helper function we use to unnormalize and evaluate a point\"\"\"\n",
    "    return c1(unnormalize(x, fun.bounds))\n",
    "\n",
    "\n",
    "def eval_c2(x):\n",
    "    \"\"\"This is a helper function we use to unnormalize and evaluate a point\"\"\"\n",
    "    return c2(unnormalize(x, fun.bounds))"
   ]
  },
  {
   "cell_type": "markdown",
   "metadata": {},
   "source": [
    "## Define TuRBO Class\n",
    "\n",
    "Just as in the TuRBO Tutorial (https://botorch.org/tutorials/turbo_1), we'll define a class to hold the turst region state and a method update_state() to update the side length of the trust region hyper-cube during optimization. We'll update the side length according to the number of sequential successes or failures as discussed in the original TuRBO paper. "
   ]
  },
  {
   "cell_type": "code",
   "execution_count": 4,
   "metadata": {
    "ExecuteTime": {
     "end_time": "2024-01-20T21:49:07.539263Z",
     "start_time": "2024-01-20T21:49:07.500822Z"
    }
   },
   "outputs": [
    {
     "name": "stdout",
     "output_type": "stream",
     "text": [
      "ScboState(dim=10, batch_size=4, length=0.8, length_min=0.0078125, length_max=1.6, failure_counter=0, failure_tolerance=3, success_counter=0, success_tolerance=10, best_value=-inf, best_constraint_values=tensor([inf, inf], dtype=torch.float64), restart_triggered=False)\n"
     ]
    }
   ],
   "source": [
    "@dataclass\n",
    "class ScboState:\n",
    "    dim: int\n",
    "    batch_size: int\n",
    "    length: float = 0.8\n",
    "    length_min: float = 0.5**7\n",
    "    length_max: float = 1.6\n",
    "    failure_counter: int = 0\n",
    "    failure_tolerance: int = float(\"nan\")  # Note: Post-initialized\n",
    "    success_counter: int = 0\n",
    "    success_tolerance: int = 10  # Note: The original paper uses 3\n",
    "    best_value: float = -float(\"inf\")\n",
    "    best_constraint_values: Tensor = torch.ones(2, **tkwargs) * torch.inf\n",
    "    restart_triggered: bool = False\n",
    "\n",
    "    def __post_init__(self):\n",
    "        self.failure_tolerance = math.ceil(max([4.0 / self.batch_size, float(self.dim) / self.batch_size]))\n",
    "\n",
    "\n",
    "def update_tr_length(state: ScboState):\n",
    "    # Update the length of the trust region according to\n",
    "    # success and failure counters\n",
    "    # (Just as in original TuRBO paper)\n",
    "    if state.success_counter == state.success_tolerance:  # Expand trust region\n",
    "        state.length = min(2.0 * state.length, state.length_max)\n",
    "        state.success_counter = 0\n",
    "    elif state.failure_counter == state.failure_tolerance:  # Shrink trust region\n",
    "        state.length /= 2.0\n",
    "        state.failure_counter = 0\n",
    "\n",
    "    if state.length < state.length_min:  # Restart when trust region becomes too small\n",
    "        state.restart_triggered = True\n",
    "\n",
    "    return state\n",
    "\n",
    "\n",
    "def get_best_index_for_batch(Y: Tensor, C: Tensor):\n",
    "    \"\"\"Return the index for the best point.\"\"\"\n",
    "    is_feas = (C <= 0).all(dim=-1)\n",
    "    if is_feas.any():  # Choose best feasible candidate\n",
    "        score = Y.clone()\n",
    "        score[~is_feas] = -float(\"inf\")\n",
    "        return score.argmax()\n",
    "    return C.clamp(min=0).sum(dim=-1).argmin()\n",
    "\n",
    "\n",
    "def update_state(state, Y_next, C_next):\n",
    "    \"\"\"Method used to update the TuRBO state after each step of optimization.\n",
    "\n",
    "    Success and failure counters are updated according to the objective values\n",
    "    (Y_next) and constraint values (C_next) of the batch of candidate points\n",
    "    evaluated on the optimization step.\n",
    "\n",
    "    As in the original TuRBO paper, a success is counted whenver any one of the\n",
    "    new candidate points improves upon the incumbent best point. The key difference\n",
    "    for SCBO is that we only compare points by their objective values when both points\n",
    "    are valid (meet all constraints). If exactly one of the two points being compared\n",
    "    violates a constraint, the other valid point is automatically considered to be better.\n",
    "    If both points violate some constraints, we compare them inated by their constraint values.\n",
    "    The better point in this case is the one with minimum total constraint violation\n",
    "    (the minimum sum of constraint values)\"\"\"\n",
    "\n",
    "    # Pick the best point from the batch\n",
    "    best_ind = get_best_index_for_batch(Y=Y_next, C=C_next)\n",
    "    y_next, c_next = Y_next[best_ind], C_next[best_ind]\n",
    "\n",
    "    if (c_next <= 0).all():\n",
    "        # At least one new candidate is feasible\n",
    "        improvement_threshold = state.best_value + 1e-3 * math.fabs(state.best_value)\n",
    "        if y_next > improvement_threshold or (state.best_constraint_values > 0).any():\n",
    "            state.success_counter += 1\n",
    "            state.failure_counter = 0\n",
    "            state.best_value = y_next.item()\n",
    "            state.best_constraint_values = c_next\n",
    "        else:\n",
    "            state.success_counter = 0\n",
    "            state.failure_counter += 1\n",
    "    else:\n",
    "        # No new candidate is feasible\n",
    "        total_violation_next = c_next.clamp(min=0).sum(dim=-1)\n",
    "        total_violation_center = state.best_constraint_values.clamp(min=0).sum(dim=-1)\n",
    "        if total_violation_next < total_violation_center:\n",
    "            state.success_counter += 1\n",
    "            state.failure_counter = 0\n",
    "            state.best_value = y_next.item()\n",
    "            state.best_constraint_values = c_next\n",
    "        else:\n",
    "            state.success_counter = 0\n",
    "            state.failure_counter += 1\n",
    "\n",
    "    # Update the length of the trust region according to the success and failure counters\n",
    "    state = update_tr_length(state)\n",
    "    return state\n",
    "\n",
    "\n",
    "# Define example state\n",
    "state = ScboState(dim=dim, batch_size=batch_size)\n",
    "print(state)"
   ]
  },
  {
   "cell_type": "markdown",
   "metadata": {},
   "source": [
    "### Generate Initial Points\n",
    "\n",
    "Here we define a simple method to generate a set of random initial datapoints that we will use to kick-off optimization. "
   ]
  },
  {
   "cell_type": "code",
   "execution_count": 5,
   "metadata": {
    "ExecuteTime": {
     "end_time": "2024-01-20T21:49:07.539860Z",
     "start_time": "2024-01-20T21:49:07.509996Z"
    }
   },
   "outputs": [],
   "source": [
    "def get_initial_points(dim, n_pts, seed=0):\n",
    "    sobol = SobolEngine(dimension=dim, scramble=True, seed=seed)\n",
    "    X_init = sobol.draw(n=n_pts).to(dtype=dtype, device=device)\n",
    "    return X_init"
   ]
  },
  {
   "cell_type": "markdown",
   "metadata": {},
   "source": [
    "### Generating a batch of candidates for SCBO \n",
    "\n",
    "Just as in the TuRBO Tutorial (https://botorch.org/tutorials/turbo_1), we'll define a method generate_batch to generate a new batch of candidate points within the TuRBO trust region using Thompson sampling. \n",
    "\n",
    "The key difference here from TuRBO is that, instead of using MaxPosteriorSampling to simply grab the candidates within the trust region with the maximum posterior values, we use ConstrainedMaxPosteriorSampling to instead grab the candidates within the trust region with the maximum posterior values subject to the constraint that the posteriors for the constraint models for c1(x) and c2(x) must be less than or equal to 0 for both candidates. \n",
    "\n",
    "We use additional GPs ('constraint models') to model each black-box constraint (c1 and c2), and throw out all candidates for which the sampled value for these constraint models is greater than 0. According to [1], in the special case when all of the candidaates are predicted to be constraint violators, we select the candidate with the minimum predicted violation. (See botorch.generation.sampling.ConstrainedMaxPosteriorSampling for implementation details)."
   ]
  },
  {
   "cell_type": "code",
   "execution_count": 6,
   "metadata": {
    "ExecuteTime": {
     "end_time": "2024-01-20T21:49:07.540082Z",
     "start_time": "2024-01-20T21:49:07.512107Z"
    }
   },
   "outputs": [],
   "source": [
    "def generate_batch(\n",
    "    state,\n",
    "    model,  # GP model\n",
    "    X,  # Evaluated points on the domain [0, 1]^d\n",
    "    Y,  # Function values\n",
    "    C,  # Constraint values\n",
    "    batch_size,\n",
    "    n_candidates,  # Number of candidates for Thompson sampling\n",
    "    constraint_model,\n",
    "    sobol: SobolEngine,\n",
    "):\n",
    "    assert X.min() >= 0.0 and X.max() <= 1.0 and torch.all(torch.isfinite(Y))\n",
    "\n",
    "    # Create the TR bounds\n",
    "    best_ind = get_best_index_for_batch(Y=Y, C=C)\n",
    "    x_center = X[best_ind, :].clone()\n",
    "    tr_lb = torch.clamp(x_center - state.length / 2.0, 0.0, 1.0)\n",
    "    tr_ub = torch.clamp(x_center + state.length / 2.0, 0.0, 1.0)\n",
    "\n",
    "    # Thompson Sampling w/ Constraints (SCBO)\n",
    "    dim = X.shape[-1]\n",
    "    pert = sobol.draw(n_candidates).to(dtype=dtype, device=device)\n",
    "    pert = tr_lb + (tr_ub - tr_lb) * pert\n",
    "\n",
    "    # Create a perturbation mask\n",
    "    prob_perturb = min(20.0 / dim, 1.0)\n",
    "    mask = torch.rand(n_candidates, dim, **tkwargs) <= prob_perturb\n",
    "    ind = torch.where(mask.sum(dim=1) == 0)[0]\n",
    "    mask[ind, torch.randint(0, dim - 1, size=(len(ind),), device=device)] = 1\n",
    "\n",
    "    # Create candidate points from the perturbations and the mask\n",
    "    X_cand = x_center.expand(n_candidates, dim).clone()\n",
    "    X_cand[mask] = pert[mask]\n",
    "\n",
    "    # Sample on the candidate points using Constrained Max Posterior Sampling\n",
    "    constrained_thompson_sampling = ConstrainedMaxPosteriorSampling(\n",
    "        model=model, constraint_model=constraint_model, replacement=False\n",
    "    )\n",
    "    with torch.no_grad():\n",
    "        X_next = constrained_thompson_sampling(X_cand, num_samples=batch_size)\n",
    "\n",
    "    return X_next"
   ]
  },
  {
   "cell_type": "markdown",
   "metadata": {},
   "source": [
    "## Main Optimization Loop"
   ]
  },
  {
   "cell_type": "code",
   "execution_count": 7,
   "metadata": {
    "ExecuteTime": {
     "end_time": "2024-01-20T21:49:42.123698Z",
     "start_time": "2024-01-20T21:49:07.519580Z"
    }
   },
   "outputs": [
    {
     "name": "stdout",
     "output_type": "stream",
     "text": [
      "14) No feasible point yet! Smallest total violation: 1.74e+01, TR length: 8.00e-01\n",
      "18) No feasible point yet! Smallest total violation: 1.74e+01, TR length: 8.00e-01\n",
      "22) No feasible point yet! Smallest total violation: 7.52e+00, TR length: 8.00e-01\n",
      "26) No feasible point yet! Smallest total violation: 3.69e+00, TR length: 8.00e-01\n",
      "30) No feasible point yet! Smallest total violation: 3.04e+00, TR length: 8.00e-01\n",
      "34) No feasible point yet! Smallest total violation: 2.21e+00, TR length: 8.00e-01\n",
      "38) Best value: -5.22e+00, TR length: 8.00e-01\n",
      "42) Best value: -5.22e+00, TR length: 8.00e-01\n",
      "46) Best value: -5.22e+00, TR length: 8.00e-01\n",
      "50) Best value: -5.22e+00, TR length: 4.00e-01\n",
      "54) Best value: -4.60e+00, TR length: 4.00e-01\n",
      "58) Best value: -4.60e+00, TR length: 4.00e-01\n",
      "62) Best value: -4.60e+00, TR length: 4.00e-01\n",
      "66) Best value: -4.60e+00, TR length: 2.00e-01\n",
      "70) Best value: -3.15e+00, TR length: 2.00e-01\n",
      "74) Best value: -3.15e+00, TR length: 2.00e-01\n",
      "78) Best value: -3.15e+00, TR length: 2.00e-01\n",
      "82) Best value: -3.15e+00, TR length: 1.00e-01\n",
      "86) Best value: -2.91e+00, TR length: 1.00e-01\n",
      "90) Best value: -2.50e+00, TR length: 1.00e-01\n",
      "94) Best value: -2.50e+00, TR length: 1.00e-01\n",
      "98) Best value: -2.50e+00, TR length: 1.00e-01\n",
      "102) Best value: -2.50e+00, TR length: 5.00e-02\n",
      "106) Best value: -1.52e+00, TR length: 5.00e-02\n",
      "110) Best value: -1.41e+00, TR length: 5.00e-02\n",
      "114) Best value: -1.22e+00, TR length: 5.00e-02\n",
      "118) Best value: -1.22e+00, TR length: 5.00e-02\n",
      "122) Best value: -1.22e+00, TR length: 5.00e-02\n",
      "126) Best value: -9.52e-01, TR length: 5.00e-02\n",
      "130) Best value: -9.52e-01, TR length: 5.00e-02\n",
      "134) Best value: -9.52e-01, TR length: 5.00e-02\n",
      "138) Best value: -9.52e-01, TR length: 2.50e-02\n",
      "142) Best value: -5.97e-01, TR length: 2.50e-02\n",
      "146) Best value: -5.97e-01, TR length: 2.50e-02\n",
      "150) Best value: -3.77e-01, TR length: 2.50e-02\n",
      "154) Best value: -3.77e-01, TR length: 2.50e-02\n",
      "158) Best value: -3.26e-01, TR length: 2.50e-02\n",
      "162) Best value: -3.26e-01, TR length: 2.50e-02\n",
      "166) Best value: -3.26e-01, TR length: 2.50e-02\n",
      "170) Best value: -3.26e-01, TR length: 1.25e-02\n",
      "174) Best value: -1.92e-01, TR length: 1.25e-02\n",
      "178) Best value: -1.92e-01, TR length: 1.25e-02\n",
      "182) Best value: -1.92e-01, TR length: 1.25e-02\n",
      "186) Best value: -1.64e-01, TR length: 1.25e-02\n",
      "190) Best value: -1.60e-01, TR length: 1.25e-02\n",
      "194) Best value: -1.60e-01, TR length: 1.25e-02\n",
      "198) Best value: -1.38e-01, TR length: 1.25e-02\n",
      "202) Best value: -1.38e-01, TR length: 1.25e-02\n",
      "206) Best value: -1.38e-01, TR length: 1.25e-02\n",
      "210) Best value: -1.38e-01, TR length: 6.25e-03\n"
     ]
    }
   ],
   "source": [
    "# Generate initial data\n",
    "train_X = get_initial_points(dim, n_init)\n",
    "train_Y = torch.tensor([eval_objective(x) for x in train_X], **tkwargs).unsqueeze(-1)\n",
    "C1 = torch.tensor([eval_c1(x) for x in train_X], **tkwargs).unsqueeze(-1)\n",
    "C2 = torch.tensor([eval_c2(x) for x in train_X], **tkwargs).unsqueeze(-1)\n",
    "\n",
    "# Initialize TuRBO state\n",
    "state = ScboState(dim, batch_size=batch_size)\n",
    "\n",
    "# Note: We use 2000 candidates here to make the tutorial run faster.\n",
    "# SCBO actually uses min(5000, max(2000, 200 * dim)) candidate points by default.\n",
    "N_CANDIDATES = 2000 if not SMOKE_TEST else 4\n",
    "sobol = SobolEngine(dim, scramble=True, seed=1)\n",
    "\n",
    "\n",
    "def get_fitted_model(X, Y):\n",
    "    likelihood = GaussianLikelihood(noise_constraint=Interval(1e-8, 1e-3))\n",
    "    covar_module = ScaleKernel(  # Use the same lengthscale prior as in the TuRBO paper\n",
    "        MaternKernel(nu=2.5, ard_num_dims=dim, lengthscale_constraint=Interval(0.005, 4.0))\n",
    "    )\n",
    "    model = SingleTaskGP(\n",
    "        X,\n",
    "        Y,\n",
    "        covar_module=covar_module,\n",
    "        likelihood=likelihood,\n",
    "        outcome_transform=Standardize(m=1),\n",
    "    )\n",
    "    mll = ExactMarginalLogLikelihood(model.likelihood, model)\n",
    "\n",
    "    with gpytorch.settings.max_cholesky_size(max_cholesky_size):\n",
    "        fit_gpytorch_mll(mll)\n",
    "\n",
    "    return model\n",
    "\n",
    "\n",
    "while not state.restart_triggered:  # Run until TuRBO converges\n",
    "    # Fit GP models for objective and constraints\n",
    "    model = get_fitted_model(train_X, train_Y)\n",
    "    c1_model = get_fitted_model(train_X, C1)\n",
    "    c2_model = get_fitted_model(train_X, C2)\n",
    "\n",
    "    # Generate a batch of candidates\n",
    "    with gpytorch.settings.max_cholesky_size(max_cholesky_size):\n",
    "        X_next = generate_batch(\n",
    "            state=state,\n",
    "            model=model,\n",
    "            X=train_X,\n",
    "            Y=train_Y,\n",
    "            C=torch.cat((C1, C2), dim=-1),\n",
    "            batch_size=batch_size,\n",
    "            n_candidates=N_CANDIDATES,\n",
    "            constraint_model=ModelListGP(c1_model, c2_model),\n",
    "            sobol=sobol,\n",
    "        )\n",
    "\n",
    "    # Evaluate both the objective and constraints for the selected candidaates\n",
    "    Y_next = torch.tensor([eval_objective(x) for x in X_next], dtype=dtype, device=device).unsqueeze(-1)\n",
    "    C1_next = torch.tensor([eval_c1(x) for x in X_next], dtype=dtype, device=device).unsqueeze(-1)\n",
    "    C2_next = torch.tensor([eval_c2(x) for x in X_next], dtype=dtype, device=device).unsqueeze(-1)\n",
    "    C_next = torch.cat([C1_next, C2_next], dim=-1)\n",
    "\n",
    "    # Update TuRBO state\n",
    "    state = update_state(state=state, Y_next=Y_next, C_next=C_next)\n",
    "\n",
    "    # Append data. Note that we append all data, even points that violate\n",
    "    # the constraints. This is so our constraint models can learn more\n",
    "    # about the constraint functions and gain confidence in where violations occur.\n",
    "    train_X = torch.cat((train_X, X_next), dim=0)\n",
    "    train_Y = torch.cat((train_Y, Y_next), dim=0)\n",
    "    C1 = torch.cat((C1, C1_next), dim=0)\n",
    "    C2 = torch.cat((C2, C2_next), dim=0)\n",
    "\n",
    "    # Print current status. Note that state.best_value is always the best\n",
    "    # objective value found so far which meets the constraints, or in the case\n",
    "    # that no points have been found yet which meet the constraints, it is the\n",
    "    # objective value of the point with the minimum constraint violation.\n",
    "    if (state.best_constraint_values <= 0).all():\n",
    "        print(f\"{len(train_X)}) Best value: {state.best_value:.2e}, TR length: {state.length:.2e}\")\n",
    "    else:\n",
    "        violation = state.best_constraint_values.clamp(min=0).sum()\n",
    "        print(\n",
    "            f\"{len(train_X)}) No feasible point yet! Smallest total violation: \"\n",
    "            f\"{violation:.2e}, TR length: {state.length:.2e}\"\n",
    "        )"
   ]
  },
  {
   "cell_type": "markdown",
   "metadata": {},
   "source": [
    "### Plot Results"
   ]
  },
  {
   "cell_type": "code",
   "execution_count": 8,
   "metadata": {
    "ExecuteTime": {
     "end_time": "2024-01-20T21:49:42.487460Z",
     "start_time": "2024-01-20T21:49:42.120035Z"
    }
   },
   "outputs": [
    {
     "data": {
      "text/plain": "<Figure size 800x600 with 1 Axes>",
      "image/png": "[encoded data removed]"
     },
     "metadata": {},
     "output_type": "display_data"
    }
   ],
   "source": [
    "import matplotlib.pyplot as plt\n",
    "import numpy as np\n",
    "from matplotlib import rc\n",
    "\n",
    "%matplotlib inline\n",
    "\n",
    "fig, ax = plt.subplots(figsize=(8, 6))\n",
    "\n",
    "score = train_Y.clone()\n",
    "# Set infeasible to -inf\n",
    "score[~(torch.cat((C1, C2), dim=-1) <= 0).all(dim=-1)] = float(\"-inf\")\n",
    "fx = np.maximum.accumulate(score.cpu())\n",
    "plt.plot(fx, marker=\"\", lw=3)\n",
    "\n",
    "plt.plot([0, len(train_Y)], [fun.optimal_value, fun.optimal_value], \"k--\", lw=3)\n",
    "plt.ylabel(\"Function value\", fontsize=18)\n",
    "plt.xlabel(\"Number of evaluations\", fontsize=18)\n",
    "plt.title(\"10D Ackley with 2 outcome constraints\", fontsize=20)\n",
    "plt.xlim([0, len(train_Y)])\n",
    "plt.ylim([-15, 1])\n",
    "\n",
    "plt.grid(True)\n",
    "plt.show()"
   ]
  },
  {
   "cell_type": "code",
   "execution_count": 8,
   "metadata": {
    "ExecuteTime": {
     "end_time": "2024-01-20T21:49:42.491706Z",
     "start_time": "2024-01-20T21:49:42.487764Z"
    }
   },
   "outputs": [],
   "source": []
  }
 ],
 "metadata": {
  "kernelspec": {
   "display_name": "Python 3 (ipykernel)",
   "language": "python",
   "name": "python3"
  },
  "language_info": {
   "codemirror_mode": {
    "name": "ipython",
    "version": 3
   },
   "file_extension": ".py",
   "mimetype": "text/x-python",
   "name": "python",
   "nbconvert_exporter": "python",
   "pygments_lexer": "ipython3",
   "version": "3.9.13"
  },
  "vscode": {
   "interpreter": {
    "hash": "9beb4c3e6521665a47c2b1e65f245d1b2309f4194f15ed6955f5e52622a9d29e"
   }
  }
 },
 "nbformat": 4,
 "nbformat_minor": 2
}
