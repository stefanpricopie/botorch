{
 "cells": [
  {
   "cell_type": "markdown",
   "metadata": {},
   "source": [
    "## Multi-Fidelity BO with Discrete Fidelities using KG\n",
    "\n",
    "In this tutorial, we show how to do multi-fidelity BO with discrete fidelities based on [1], where each fidelity is a different \"information source.\" This tutorial uses the same setup as the [continuous multi-fidelity BO tutorial](https://botorch.org/tutorials/multi_fidelity_bo), except with discrete fidelity parameters that are interpreted as multiple information sources.\n",
    "\n",
    "We use a GP model with a single task that models the design and fidelity parameters jointly. In some cases, where there is not a natural ordering in the fidelity space, it may be more appropriate to use a multi-task model (with, say, an ICM kernel). We will provide a tutorial once this functionality is in place.\n",
    "\n",
    "[1] [M. Poloczek, J. Wang, P.I. Frazier. Multi-Information Source Optimization. NeurIPS, 2017](https://papers.nips.cc/paper/2017/file/df1f1d20ee86704251795841e6a9405a-Paper.pdf)\n",
    "\n",
    "[2] [J. Wu, S. Toscano-Palmerin, P.I. Frazier, A.G. Wilson. Practical Multi-fidelity Bayesian Optimization for Hyperparameter Tuning. Conference on Uncertainty in Artificial Intelligence (UAI), 2019](https://arxiv.org/pdf/1903.04703.pdf)"
   ]
  },
  {
   "cell_type": "markdown",
   "metadata": {},
   "source": [
    "### Set dtype and device"
   ]
  },
  {
   "cell_type": "code",
   "execution_count": 1,
   "metadata": {
    "ExecuteTime": {
     "end_time": "2024-01-22T16:12:13.356475Z",
     "start_time": "2024-01-22T16:12:12.442245Z"
    }
   },
   "outputs": [],
   "source": [
    "import os\n",
    "import torch\n",
    "\n",
    "\n",
    "tkwargs = {\n",
    "    \"dtype\": torch.double,\n",
    "    \"device\": torch.device(\"cuda\" if torch.cuda.is_available() else \"cpu\"),\n",
    "}\n",
    "SMOKE_TEST = os.environ.get(\"SMOKE_TEST\")"
   ]
  },
  {
   "cell_type": "markdown",
   "metadata": {},
   "source": [
    "### Problem setup\n",
    "\n",
    "We'll consider the Augmented Hartmann multi-fidelity synthetic test problem. This function is a version of the Hartmann6 test function with an additional dimension representing the fidelity parameter; details are in [2]. The function takes the form $f(x,s)$ where $x \\in [0,1]^6$ and $s \\in \\{0.5, 0.75, 1\\}$. The target fidelity is 1.0, which means that our goal is to solve $\\max_x f(x,1.0)$ by making use of cheaper evaluations $f(x,s)$ for $s \\in \\{0.5, 0.75\\}$. In this example, we'll assume that the cost function takes the form $5.0 + s$, illustrating a situation where the fixed cost is $5.0$."
   ]
  },
  {
   "cell_type": "code",
   "execution_count": 2,
   "metadata": {
    "ExecuteTime": {
     "end_time": "2024-01-22T16:12:14.573020Z",
     "start_time": "2024-01-22T16:12:13.889614Z"
    }
   },
   "outputs": [],
   "source": [
    "from botorch.test_functions.multi_fidelity import AugmentedHartmann\n",
    "\n",
    "\n",
    "problem = AugmentedHartmann(negate=True).to(**tkwargs)\n",
    "fidelities = torch.tensor([0.5, 0.75, 1.0], **tkwargs)"
   ]
  },
  {
   "cell_type": "markdown",
   "metadata": {},
   "source": [
    "#### Model initialization\n",
    "\n",
    "We use a `SingleTaskMultiFidelityGP` as the surrogate model, which uses a kernel from [2] that is well-suited for multi-fidelity applications. The `SingleTaskMultiFidelityGP` models the design and fidelity parameters jointly, so its domain is $[0,1]^7$."
   ]
  },
  {
   "cell_type": "code",
   "execution_count": 3,
   "metadata": {
    "ExecuteTime": {
     "end_time": "2024-01-22T16:12:14.704405Z",
     "start_time": "2024-01-22T16:12:14.699510Z"
    }
   },
   "outputs": [],
   "source": [
    "from botorch.models.gp_regression_fidelity import SingleTaskMultiFidelityGP\n",
    "from botorch.models.transforms.outcome import Standardize\n",
    "from gpytorch.mlls.exact_marginal_log_likelihood import ExactMarginalLogLikelihood\n",
    "\n",
    "\n",
    "def generate_initial_data(n=16):\n",
    "    # generate training data\n",
    "    train_x = torch.rand(n, 6, **tkwargs)\n",
    "    train_f = fidelities[torch.randint(3, (n, 1))]\n",
    "    train_x_full = torch.cat((train_x, train_f), dim=1)\n",
    "    train_obj = problem(train_x_full).unsqueeze(-1)  # add output dimension\n",
    "    return train_x_full, train_obj\n",
    "\n",
    "\n",
    "def initialize_model(train_x, train_obj):\n",
    "    # define a surrogate model suited for a \"training data\"-like fidelity parameter\n",
    "    # in dimension 6, as in [2]\n",
    "    model = SingleTaskMultiFidelityGP(\n",
    "        train_x, train_obj, outcome_transform=Standardize(m=1), data_fidelities=[6]\n",
    "    )\n",
    "    mll = ExactMarginalLogLikelihood(model.likelihood, model)\n",
    "    return mll, model"
   ]
  },
  {
   "cell_type": "markdown",
   "metadata": {
    "originalKey": "8add142b-e32b-4f27-8f22-4386879512f6",
    "showInput": false
   },
   "source": [
    "#### Define a helper function to construct the MFKG acquisition function\n",
    "The helper function illustrates how one can initialize an $q$MFKG acquisition function. In this example, we assume that the affine cost is known. We then use the notion of a `CostAwareUtility` in BoTorch to scalarize the \"competing objectives\" of information gain and cost. The MFKG acquisition function optimizes the ratio of information gain to cost, which is captured by the `InverseCostWeightedUtility`.\n",
    "\n",
    "In order for MFKG to evaluate the information gain, it uses the model to predict the function value at the highest fidelity after conditioning on the observation. This is handled by the `project` argument, which specifies how to transform a tensor `X` to its target fidelity. We use a default helper function called `project_to_target_fidelity` to achieve this.\n",
    "\n",
    "An important point to keep in mind: in the case of standard KG, one can ignore the current value and simply optimize the expected maximum posterior mean of the next stage. However, for MFKG, since the goal is optimize information *gain* per cost, it is important to first compute the current value (i.e., maximum of the posterior mean at the target fidelity). To accomplish this, we use a `FixedFeatureAcquisitionFunction` on top of a `PosteriorMean`."
   ]
  },
  {
   "cell_type": "code",
   "execution_count": 4,
   "metadata": {
    "ExecuteTime": {
     "end_time": "2024-01-22T16:12:16.225154Z",
     "start_time": "2024-01-22T16:12:16.221448Z"
    }
   },
   "outputs": [
    {
     "data": {
      "text/plain": "tensor([[0., 0., 0., 0., 0., 0., 0.],\n        [1., 1., 1., 1., 1., 1., 1.]], dtype=torch.float64)"
     },
     "execution_count": 4,
     "metadata": {},
     "output_type": "execute_result"
    }
   ],
   "source": [
    "from botorch import fit_gpytorch_mll\n",
    "from botorch.models.cost import AffineFidelityCostModel\n",
    "from botorch.acquisition.cost_aware import InverseCostWeightedUtility\n",
    "from botorch.acquisition import PosteriorMean\n",
    "from botorch.acquisition.knowledge_gradient import qMultiFidelityKnowledgeGradient\n",
    "from botorch.acquisition.fixed_feature import FixedFeatureAcquisitionFunction\n",
    "from botorch.optim.optimize import optimize_acqf\n",
    "from botorch.acquisition.utils import project_to_target_fidelity\n",
    "\n",
    "bounds = torch.tensor([[0.0] * problem.dim, [1.0] * problem.dim], **tkwargs)\n",
    "target_fidelities = {6: 1.0}\n",
    "\n",
    "bounds"
   ]
  },
  {
   "cell_type": "code",
   "outputs": [],
   "source": [
    "cost_model = AffineFidelityCostModel(fidelity_weights={6: 1.0}, fixed_cost=5.0)\n",
    "cost_aware_utility = InverseCostWeightedUtility(cost_model=cost_model)\n",
    "\n",
    "\n",
    "def project(X):\n",
    "    return project_to_target_fidelity(X=X, target_fidelities=target_fidelities)\n",
    "\n",
    "\n",
    "def get_mfkg(model):\n",
    "\n",
    "    curr_val_acqf = FixedFeatureAcquisitionFunction(\n",
    "        acq_function=PosteriorMean(model),\n",
    "        d=7,\n",
    "        columns=[6],\n",
    "        values=[1],\n",
    "    )\n",
    "\n",
    "    _, current_value = optimize_acqf(\n",
    "        acq_function=curr_val_acqf,\n",
    "        bounds=bounds[:, :-1],\n",
    "        q=1,\n",
    "        num_restarts=10 if not SMOKE_TEST else 2,\n",
    "        raw_samples=1024 if not SMOKE_TEST else 4,\n",
    "        options={\"batch_limit\": 10, \"maxiter\": 200},\n",
    "    )\n",
    "\n",
    "    return qMultiFidelityKnowledgeGradient(\n",
    "        model=model,\n",
    "        num_fantasies=128 if not SMOKE_TEST else 2,\n",
    "        current_value=current_value,\n",
    "        cost_aware_utility=cost_aware_utility,\n",
    "        project=project,\n",
    "    )"
   ],
   "metadata": {
    "collapsed": false,
    "ExecuteTime": {
     "end_time": "2024-01-22T16:12:17.798014Z",
     "start_time": "2024-01-22T16:12:17.784569Z"
    }
   },
   "execution_count": 5
  },
  {
   "cell_type": "markdown",
   "metadata": {},
   "source": [
    "#### Define a helper function that performs the essential BO step\n",
    "This helper function optimizes the acquisition function and returns the batch $\\{x_1, x_2, \\ldots x_q\\}$ along with the observed function values. The function `optimize_acqf_mixed` sequentially optimizes the acquisition function over $x$ for each value of the fidelity $s \\in \\{0.5, 0.75, 1\\}$."
   ]
  },
  {
   "cell_type": "code",
   "execution_count": 5,
   "metadata": {
    "ExecuteTime": {
     "end_time": "2024-01-09T15:13:56.851722Z",
     "start_time": "2024-01-09T15:13:56.849856Z"
    }
   },
   "outputs": [],
   "source": [
    "from botorch.optim.optimize import optimize_acqf_mixed\n",
    "\n",
    "\n",
    "torch.set_printoptions(precision=3, sci_mode=False)\n",
    "\n",
    "NUM_RESTARTS = 5 if not SMOKE_TEST else 2\n",
    "RAW_SAMPLES = 128 if not SMOKE_TEST else 4\n",
    "BATCH_SIZE = 4\n",
    "\n",
    "\n",
    "def optimize_mfkg_and_get_observation(mfkg_acqf):\n",
    "    \"\"\"Optimizes MFKG and returns a new candidate, observation, and cost.\"\"\"\n",
    "\n",
    "    # generate new candidates\n",
    "    candidates, _ = optimize_acqf_mixed(\n",
    "        acq_function=mfkg_acqf,\n",
    "        bounds=bounds,\n",
    "        fixed_features_list=[{6: 0.5}, {6: 0.75}, {6: 1.0}],\n",
    "        q=BATCH_SIZE,\n",
    "        num_restarts=NUM_RESTARTS,\n",
    "        raw_samples=RAW_SAMPLES,\n",
    "        # batch_initial_conditions=X_init,\n",
    "        options={\"batch_limit\": 5, \"maxiter\": 200},\n",
    "    )\n",
    "\n",
    "    # observe new values\n",
    "    cost = cost_model(candidates).sum()\n",
    "    new_x = candidates.detach()\n",
    "    new_obj = problem(new_x).unsqueeze(-1)\n",
    "    print(f\"candidates:\\n{new_x}\\n\")\n",
    "    print(f\"observations:\\n{new_obj}\\n\\n\")\n",
    "    return new_x, new_obj, cost"
   ]
  },
  {
   "cell_type": "markdown",
   "metadata": {},
   "source": [
    "### Perform a few steps of multi-fidelity BO\n",
    "First, let's generate some initial random data and fit a surrogate model."
   ]
  },
  {
   "cell_type": "code",
   "execution_count": 6,
   "metadata": {
    "ExecuteTime": {
     "end_time": "2024-01-09T15:13:56.857179Z",
     "start_time": "2024-01-09T15:13:56.852036Z"
    }
   },
   "outputs": [],
   "source": [
    "train_x, train_obj = generate_initial_data(n=16)"
   ]
  },
  {
   "cell_type": "markdown",
   "metadata": {},
   "source": [
    "We can now use the helper functions above to run a few iterations of BO."
   ]
  },
  {
   "cell_type": "code",
   "execution_count": 7,
   "metadata": {
    "ExecuteTime": {
     "end_time": "2024-01-09T15:16:30.956621Z",
     "start_time": "2024-01-09T15:13:56.855621Z"
    }
   },
   "outputs": [
    {
     "name": "stderr",
     "output_type": "stream",
     "text": [
      "/Users/stefan/Desktop/botorch/botorch/models/gpytorch.py:477: BotorchTensorDimensionWarning: Non-strict enforcement of botorch tensor conventions. The following error would have been raised with strict enforcement: Expected X and Y to have the same number of dimensions (got X with dimension 3 and Y with dimension 4).\n",
      "  self._validate_tensor_args(X=X, Y=Y, Yvar=noise, strict=False)\n",
      "/Users/stefan/Desktop/botorch/botorch/models/gpytorch.py:239: BotorchTensorDimensionWarning: Non-strict enforcement of botorch tensor conventions. The following error would have been raised with strict enforcement: Expected X and Y to have the same number of dimensions (got X with dimension 3 and Y with dimension 4).\n",
      "  self._validate_tensor_args(X=X, Y=Y, Yvar=Yvar, strict=False)\n"
     ]
    },
    {
     "name": "stdout",
     "output_type": "stream",
     "text": [
      "candidates:\n",
      "tensor([[0.308, 0.991, 0.184, 0.329, 0.195, 0.128, 0.500],\n",
      "        [0.373, 0.935, 0.179, 0.519, 0.246, 0.050, 0.500],\n",
      "        [0.405, 0.991, 0.322, 0.357, 0.306, 0.042, 0.500],\n",
      "        [0.423, 0.982, 0.289, 0.423, 0.091, 0.161, 0.500]],\n",
      "       dtype=torch.float64)\n",
      "\n",
      "observations:\n",
      "tensor([[1.208],\n",
      "        [2.912],\n",
      "        [1.793],\n",
      "        [1.876]], dtype=torch.float64)\n"
     ]
    },
    {
     "name": "stderr",
     "output_type": "stream",
     "text": [
      "/Users/stefan/Desktop/botorch/botorch/models/gpytorch.py:477: BotorchTensorDimensionWarning: Non-strict enforcement of botorch tensor conventions. The following error would have been raised with strict enforcement: Expected X and Y to have the same number of dimensions (got X with dimension 3 and Y with dimension 4).\n",
      "  self._validate_tensor_args(X=X, Y=Y, Yvar=noise, strict=False)\n",
      "/Users/stefan/Desktop/botorch/botorch/models/gpytorch.py:239: BotorchTensorDimensionWarning: Non-strict enforcement of botorch tensor conventions. The following error would have been raised with strict enforcement: Expected X and Y to have the same number of dimensions (got X with dimension 3 and Y with dimension 4).\n",
      "  self._validate_tensor_args(X=X, Y=Y, Yvar=Yvar, strict=False)\n"
     ]
    },
    {
     "name": "stdout",
     "output_type": "stream",
     "text": [
      "candidates:\n",
      "tensor([[0.414, 0.889, 0.170, 0.523, 0.367, 0.150, 0.500],\n",
      "        [0.389, 0.791, 0.222, 0.518, 0.235, 0.025, 0.500],\n",
      "        [0.418, 0.958, 0.281, 0.571, 0.312, 0.019, 0.500],\n",
      "        [0.357, 0.920, 0.144, 0.610, 0.186, 0.106, 0.750]],\n",
      "       dtype=torch.float64)\n",
      "\n",
      "observations:\n",
      "tensor([[2.553],\n",
      "        [2.829],\n",
      "        [2.973],\n",
      "        [2.753]], dtype=torch.float64)\n"
     ]
    },
    {
     "name": "stderr",
     "output_type": "stream",
     "text": [
      "/Users/stefan/Desktop/botorch/botorch/models/gpytorch.py:477: BotorchTensorDimensionWarning: Non-strict enforcement of botorch tensor conventions. The following error would have been raised with strict enforcement: Expected X and Y to have the same number of dimensions (got X with dimension 3 and Y with dimension 4).\n",
      "  self._validate_tensor_args(X=X, Y=Y, Yvar=noise, strict=False)\n",
      "/Users/stefan/Desktop/botorch/botorch/models/gpytorch.py:239: BotorchTensorDimensionWarning: Non-strict enforcement of botorch tensor conventions. The following error would have been raised with strict enforcement: Expected X and Y to have the same number of dimensions (got X with dimension 3 and Y with dimension 4).\n",
      "  self._validate_tensor_args(X=X, Y=Y, Yvar=Yvar, strict=False)\n"
     ]
    },
    {
     "name": "stdout",
     "output_type": "stream",
     "text": [
      "candidates:\n",
      "tensor([[0.446, 0.949, 0.179, 0.562, 0.191, 0.021, 0.500],\n",
      "        [0.393, 0.916, 0.104, 0.598, 0.329, 0.000, 0.500],\n",
      "        [0.375, 0.938, 0.251, 0.620, 0.202, 0.000, 0.500],\n",
      "        [0.356, 1.000, 0.116, 0.586, 0.256, 0.000, 0.750]],\n",
      "       dtype=torch.float64)\n",
      "\n",
      "observations:\n",
      "tensor([[2.913],\n",
      "        [2.982],\n",
      "        [2.897],\n",
      "        [2.614]], dtype=torch.float64)\n"
     ]
    }
   ],
   "source": [
    "cumulative_cost = 0.0\n",
    "N_ITER = 3 if not SMOKE_TEST else 1\n",
    "\n",
    "for i in range(N_ITER):\n",
    "    mll, model = initialize_model(train_x, train_obj)\n",
    "    fit_gpytorch_mll(mll)\n",
    "    mfkg_acqf = get_mfkg(model)\n",
    "    new_x, new_obj, cost = optimize_mfkg_and_get_observation(mfkg_acqf)\n",
    "    train_x = torch.cat([train_x, new_x])\n",
    "    train_obj = torch.cat([train_obj, new_obj])\n",
    "    cumulative_cost += cost"
   ]
  },
  {
   "cell_type": "markdown",
   "metadata": {},
   "source": [
    "### Make a final recommendation\n",
    "In multi-fidelity BO, there are usually fewer observations of the function at the target fidelity, so it is important to use a recommendation function that uses the correct fidelity. Here, we maximize the posterior mean with the fidelity dimension fixed to the target fidelity of 1.0."
   ]
  },
  {
   "cell_type": "code",
   "execution_count": 8,
   "metadata": {
    "ExecuteTime": {
     "end_time": "2024-01-09T15:16:30.958854Z",
     "start_time": "2024-01-09T15:16:30.952617Z"
    }
   },
   "outputs": [],
   "source": [
    "def get_recommendation(model):\n",
    "    rec_acqf = FixedFeatureAcquisitionFunction(\n",
    "        acq_function=PosteriorMean(model),\n",
    "        d=7,\n",
    "        columns=[6],\n",
    "        values=[1],\n",
    "    )\n",
    "\n",
    "    final_rec, _ = optimize_acqf(\n",
    "        acq_function=rec_acqf,\n",
    "        bounds=bounds[:, :-1],\n",
    "        q=1,\n",
    "        num_restarts=10,\n",
    "        raw_samples=512,\n",
    "        options={\"batch_limit\": 5, \"maxiter\": 200},\n",
    "    )\n",
    "\n",
    "    final_rec = rec_acqf._construct_X_full(final_rec)\n",
    "\n",
    "    objective_value = problem(final_rec)\n",
    "    print(f\"recommended point:\\n{final_rec}\\n\\nobjective value:\\n{objective_value}\")\n",
    "    return final_rec"
   ]
  },
  {
   "cell_type": "code",
   "execution_count": 9,
   "metadata": {
    "ExecuteTime": {
     "end_time": "2024-01-09T15:16:31.106693Z",
     "start_time": "2024-01-09T15:16:30.955307Z"
    }
   },
   "outputs": [
    {
     "name": "stdout",
     "output_type": "stream",
     "text": [
      "recommended point:\n",
      "tensor([[0.396, 0.926, 0.204, 0.573, 0.254, 0.000, 1.000]],\n",
      "       dtype=torch.float64)\n",
      "\n",
      "objective value:\n",
      "tensor([3.015], dtype=torch.float64)\n",
      "\n",
      "total cost: 66.5\n"
     ]
    }
   ],
   "source": [
    "final_rec = get_recommendation(model)\n",
    "print(f\"\\ntotal cost: {cumulative_cost}\\n\")"
   ]
  },
  {
   "cell_type": "markdown",
   "metadata": {},
   "source": [
    "### Comparison to standard EI (always use target fidelity)\n",
    "Let's now repeat the same steps using a standard EI acquisition function (note that this is not a rigorous comparison as we are only looking at one trial in order to keep computational requirements low)."
   ]
  },
  {
   "cell_type": "code",
   "execution_count": 10,
   "metadata": {
    "ExecuteTime": {
     "end_time": "2024-01-09T15:16:31.106892Z",
     "start_time": "2024-01-09T15:16:31.104157Z"
    }
   },
   "outputs": [],
   "source": [
    "from botorch.acquisition import qExpectedImprovement\n",
    "\n",
    "\n",
    "def get_ei(model, best_f):\n",
    "\n",
    "    return FixedFeatureAcquisitionFunction(\n",
    "        acq_function=qExpectedImprovement(model=model, best_f=best_f),\n",
    "        d=7,\n",
    "        columns=[6],\n",
    "        values=[1],\n",
    "    )\n",
    "\n",
    "\n",
    "def optimize_ei_and_get_observation(ei_acqf):\n",
    "    \"\"\"Optimizes EI and returns a new candidate, observation, and cost.\"\"\"\n",
    "\n",
    "    candidates, _ = optimize_acqf(\n",
    "        acq_function=ei_acqf,\n",
    "        bounds=bounds[:, :-1],\n",
    "        q=BATCH_SIZE,\n",
    "        num_restarts=10,\n",
    "        raw_samples=512,\n",
    "        options={\"batch_limit\": 5, \"maxiter\": 200},\n",
    "    )\n",
    "\n",
    "    # add the fidelity parameter\n",
    "    candidates = ei_acqf._construct_X_full(candidates)\n",
    "\n",
    "    # observe new values\n",
    "    cost = cost_model(candidates).sum()\n",
    "    new_x = candidates.detach()\n",
    "    new_obj = problem(new_x).unsqueeze(-1)\n",
    "    print(f\"candidates:\\n{new_x}\\n\")\n",
    "    print(f\"observations:\\n{new_obj}\\n\\n\")\n",
    "    return new_x, new_obj, cost"
   ]
  },
  {
   "cell_type": "code",
   "execution_count": 11,
   "metadata": {
    "ExecuteTime": {
     "end_time": "2024-01-09T15:16:33.025339Z",
     "start_time": "2024-01-09T15:16:31.107812Z"
    }
   },
   "outputs": [
    {
     "name": "stdout",
     "output_type": "stream",
     "text": [
      "candidates:\n",
      "tensor([[0.119, 0.564, 0.679, 0.303, 0.425, 0.732, 1.000],\n",
      "        [0.544, 0.742, 0.425, 0.353, 0.604, 0.305, 1.000],\n",
      "        [0.117, 0.644, 0.568, 0.346, 0.425, 0.571, 1.000],\n",
      "        [0.122, 0.746, 0.685, 0.260, 0.482, 0.621, 1.000]],\n",
      "       dtype=torch.float64)\n",
      "\n",
      "observations:\n",
      "tensor([[1.315],\n",
      "        [0.490],\n",
      "        [1.059],\n",
      "        [0.583]], dtype=torch.float64)\n",
      "\n",
      "candidates:\n",
      "tensor([[0.094, 0.515, 0.658, 0.281, 0.399, 0.621, 1.000],\n",
      "        [0.651, 0.988, 0.903, 0.654, 0.969, 0.542, 1.000],\n",
      "        [0.225, 0.465, 0.901, 0.383, 0.542, 0.179, 1.000],\n",
      "        [0.089, 0.544, 0.589, 0.310, 0.375, 0.775, 1.000]],\n",
      "       dtype=torch.float64)\n",
      "\n",
      "observations:\n",
      "tensor([[1.635],\n",
      "        [0.026],\n",
      "        [0.315],\n",
      "        [1.569]], dtype=torch.float64)\n",
      "\n",
      "candidates:\n",
      "tensor([[0.988, 0.073, 0.337, 0.595, 0.558, 0.880, 1.000],\n",
      "        [0.670, 0.264, 0.773, 0.959, 0.916, 0.458, 1.000],\n",
      "        [0.611, 0.210, 0.292, 0.982, 0.878, 0.793, 1.000],\n",
      "        [0.069, 0.486, 0.605, 0.269, 0.361, 0.656, 1.000]],\n",
      "       dtype=torch.float64)\n",
      "\n",
      "observations:\n",
      "tensor([[    0.050],\n",
      "        [    0.002],\n",
      "        [    0.001],\n",
      "        [    1.973]], dtype=torch.float64)\n"
     ]
    }
   ],
   "source": [
    "cumulative_cost = 0.0\n",
    "\n",
    "train_x, train_obj = generate_initial_data(n=16)\n",
    "\n",
    "for _ in range(N_ITER):\n",
    "    mll, model = initialize_model(train_x, train_obj)\n",
    "    fit_gpytorch_mll(mll)\n",
    "    ei_acqf = get_ei(model, best_f=train_obj.max())\n",
    "    new_x, new_obj, cost = optimize_ei_and_get_observation(ei_acqf)\n",
    "    train_x = torch.cat([train_x, new_x])\n",
    "    train_obj = torch.cat([train_obj, new_obj])\n",
    "    cumulative_cost += cost"
   ]
  },
  {
   "cell_type": "code",
   "execution_count": 12,
   "metadata": {
    "ExecuteTime": {
     "end_time": "2024-01-09T15:16:33.156841Z",
     "start_time": "2024-01-09T15:16:33.023478Z"
    }
   },
   "outputs": [
    {
     "name": "stdout",
     "output_type": "stream",
     "text": [
      "recommended point:\n",
      "tensor([[0.074, 0.493, 0.610, 0.275, 0.366, 0.658, 1.000]],\n",
      "       dtype=torch.float64)\n",
      "\n",
      "objective value:\n",
      "tensor([1.925], dtype=torch.float64)\n",
      "\n",
      "total cost: 72.0\n"
     ]
    }
   ],
   "source": [
    "final_rec = get_recommendation(model)\n",
    "print(f\"\\ntotal cost: {cumulative_cost}\\n\")"
   ]
  },
  {
   "cell_type": "code",
   "execution_count": 12,
   "metadata": {
    "ExecuteTime": {
     "end_time": "2024-01-09T15:16:33.157039Z",
     "start_time": "2024-01-09T15:16:33.153104Z"
    }
   },
   "outputs": [],
   "source": []
  }
 ],
 "metadata": {
  "kernelspec": {
   "name": "python3",
   "language": "python",
   "display_name": "Python 3 (ipykernel)"
  }
 },
 "nbformat": 4,
 "nbformat_minor": 2
}
